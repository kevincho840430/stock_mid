{
 "cells": [
  {
   "cell_type": "markdown",
   "metadata": {},
   "source": [
    "# 0056 drop something"
   ]
  },
  {
   "cell_type": "markdown",
   "metadata": {},
   "source": [
    "# import somethiing"
   ]
  },
  {
   "cell_type": "code",
   "execution_count": 7,
   "metadata": {},
   "outputs": [],
   "source": [
    "import numpy as np\n",
    "import pandas as pd\n",
    "import datetime\n",
    "\n",
    "%matplotlib inline\n",
    "import matplotlib.pyplot as plt\n",
    "import seaborn as sns\n",
    "plt.style.use('seaborn-darkgrid')\n",
    "plt.rc('figure', figsize=(16,10))\n",
    "plt.rc('lines', markersize=4)"
   ]
  },
  {
   "cell_type": "code",
   "execution_count": 8,
   "metadata": {},
   "outputs": [],
   "source": [
    "#忽略警告\n",
    "import warnings \n",
    "warnings.filterwarnings('ignore')"
   ]
  },
  {
   "cell_type": "code",
   "execution_count": 9,
   "metadata": {},
   "outputs": [],
   "source": [
    "data = pd.read_csv('train.csv')"
   ]
  },
  {
   "cell_type": "code",
   "execution_count": 10,
   "metadata": {},
   "outputs": [],
   "source": [
    "#反轉\n",
    "data = data.iloc[::-1]"
   ]
  },
  {
   "cell_type": "code",
   "execution_count": 11,
   "metadata": {},
   "outputs": [],
   "source": [
    "data = data.to_csv('train_reverse.csv',index=False)"
   ]
  },
  {
   "cell_type": "code",
   "execution_count": 13,
   "metadata": {},
   "outputs": [],
   "source": [
    "data = pd.read_csv('train_reverse.csv')"
   ]
  },
  {
   "cell_type": "code",
   "execution_count": 14,
   "metadata": {},
   "outputs": [
    {
     "data": {
      "text/html": [
       "<div>\n",
       "<style scoped>\n",
       "    .dataframe tbody tr th:only-of-type {\n",
       "        vertical-align: middle;\n",
       "    }\n",
       "\n",
       "    .dataframe tbody tr th {\n",
       "        vertical-align: top;\n",
       "    }\n",
       "\n",
       "    .dataframe thead th {\n",
       "        text-align: right;\n",
       "    }\n",
       "</style>\n",
       "<table border=\"1\" class=\"dataframe\">\n",
       "  <thead>\n",
       "    <tr style=\"text-align: right;\">\n",
       "      <th></th>\n",
       "      <th>date</th>\n",
       "      <th>1101_Turnover</th>\n",
       "      <th>1101_Volume</th>\n",
       "      <th>1101_close</th>\n",
       "      <th>1101_eps</th>\n",
       "      <th>1101_high</th>\n",
       "      <th>1101_low</th>\n",
       "      <th>1101_open</th>\n",
       "      <th>1101_ups_and_downs</th>\n",
       "      <th>1101_ups_percent</th>\n",
       "      <th>...</th>\n",
       "      <th>9945_Turnover</th>\n",
       "      <th>9945_Volume</th>\n",
       "      <th>9945_close</th>\n",
       "      <th>9945_eps</th>\n",
       "      <th>9945_high</th>\n",
       "      <th>9945_low</th>\n",
       "      <th>9945_open</th>\n",
       "      <th>9945_ups_and_downs</th>\n",
       "      <th>9945_ups_percent</th>\n",
       "      <th>0056_close_y</th>\n",
       "    </tr>\n",
       "  </thead>\n",
       "  <tbody>\n",
       "    <tr>\n",
       "      <th>0</th>\n",
       "      <td>6815</td>\n",
       "      <td>93134.0</td>\n",
       "      <td>2589.0</td>\n",
       "      <td>35.75</td>\n",
       "      <td>26.68</td>\n",
       "      <td>36.20</td>\n",
       "      <td>35.75</td>\n",
       "      <td>35.8</td>\n",
       "      <td>0.10</td>\n",
       "      <td>0.28</td>\n",
       "      <td>...</td>\n",
       "      <td>146528.0</td>\n",
       "      <td>3785.0</td>\n",
       "      <td>38.80</td>\n",
       "      <td>6.99</td>\n",
       "      <td>39.00</td>\n",
       "      <td>38.2</td>\n",
       "      <td>38.25</td>\n",
       "      <td>0.65</td>\n",
       "      <td>1.70</td>\n",
       "      <td>319.623136</td>\n",
       "    </tr>\n",
       "    <tr>\n",
       "      <th>1</th>\n",
       "      <td>6816</td>\n",
       "      <td>237082.0</td>\n",
       "      <td>6605.0</td>\n",
       "      <td>35.95</td>\n",
       "      <td>26.83</td>\n",
       "      <td>36.20</td>\n",
       "      <td>35.65</td>\n",
       "      <td>36.2</td>\n",
       "      <td>0.20</td>\n",
       "      <td>0.56</td>\n",
       "      <td>...</td>\n",
       "      <td>275480.0</td>\n",
       "      <td>7236.0</td>\n",
       "      <td>37.70</td>\n",
       "      <td>6.79</td>\n",
       "      <td>38.60</td>\n",
       "      <td>37.6</td>\n",
       "      <td>38.60</td>\n",
       "      <td>-1.10</td>\n",
       "      <td>-2.84</td>\n",
       "      <td>320.416337</td>\n",
       "    </tr>\n",
       "    <tr>\n",
       "      <th>2</th>\n",
       "      <td>6817</td>\n",
       "      <td>147950.0</td>\n",
       "      <td>4092.0</td>\n",
       "      <td>36.40</td>\n",
       "      <td>27.16</td>\n",
       "      <td>36.40</td>\n",
       "      <td>35.60</td>\n",
       "      <td>35.6</td>\n",
       "      <td>0.45</td>\n",
       "      <td>1.25</td>\n",
       "      <td>...</td>\n",
       "      <td>240982.0</td>\n",
       "      <td>6526.0</td>\n",
       "      <td>37.25</td>\n",
       "      <td>6.71</td>\n",
       "      <td>37.30</td>\n",
       "      <td>36.7</td>\n",
       "      <td>36.80</td>\n",
       "      <td>-0.45</td>\n",
       "      <td>-1.19</td>\n",
       "      <td>320.416337</td>\n",
       "    </tr>\n",
       "    <tr>\n",
       "      <th>3</th>\n",
       "      <td>6818</td>\n",
       "      <td>95754.0</td>\n",
       "      <td>2627.0</td>\n",
       "      <td>36.60</td>\n",
       "      <td>27.31</td>\n",
       "      <td>36.65</td>\n",
       "      <td>36.05</td>\n",
       "      <td>36.4</td>\n",
       "      <td>0.20</td>\n",
       "      <td>0.55</td>\n",
       "      <td>...</td>\n",
       "      <td>94300.0</td>\n",
       "      <td>2540.0</td>\n",
       "      <td>37.05</td>\n",
       "      <td>6.68</td>\n",
       "      <td>37.50</td>\n",
       "      <td>37.0</td>\n",
       "      <td>37.35</td>\n",
       "      <td>-0.20</td>\n",
       "      <td>-0.54</td>\n",
       "      <td>319.358946</td>\n",
       "    </tr>\n",
       "    <tr>\n",
       "      <th>4</th>\n",
       "      <td>6819</td>\n",
       "      <td>145875.0</td>\n",
       "      <td>3990.0</td>\n",
       "      <td>36.65</td>\n",
       "      <td>27.35</td>\n",
       "      <td>36.70</td>\n",
       "      <td>36.35</td>\n",
       "      <td>36.6</td>\n",
       "      <td>0.05</td>\n",
       "      <td>0.14</td>\n",
       "      <td>...</td>\n",
       "      <td>105420.0</td>\n",
       "      <td>2829.0</td>\n",
       "      <td>37.40</td>\n",
       "      <td>6.74</td>\n",
       "      <td>37.45</td>\n",
       "      <td>37.0</td>\n",
       "      <td>37.05</td>\n",
       "      <td>0.35</td>\n",
       "      <td>0.94</td>\n",
       "      <td>314.621555</td>\n",
       "    </tr>\n",
       "  </tbody>\n",
       "</table>\n",
       "<p>5 rows × 92 columns</p>\n",
       "</div>"
      ],
      "text/plain": [
       "   date  1101_Turnover  1101_Volume  1101_close  1101_eps  1101_high  \\\n",
       "0  6815        93134.0       2589.0       35.75     26.68      36.20   \n",
       "1  6816       237082.0       6605.0       35.95     26.83      36.20   \n",
       "2  6817       147950.0       4092.0       36.40     27.16      36.40   \n",
       "3  6818        95754.0       2627.0       36.60     27.31      36.65   \n",
       "4  6819       145875.0       3990.0       36.65     27.35      36.70   \n",
       "\n",
       "   1101_low  1101_open  1101_ups_and_downs  1101_ups_percent  ...  \\\n",
       "0     35.75       35.8                0.10              0.28  ...   \n",
       "1     35.65       36.2                0.20              0.56  ...   \n",
       "2     35.60       35.6                0.45              1.25  ...   \n",
       "3     36.05       36.4                0.20              0.55  ...   \n",
       "4     36.35       36.6                0.05              0.14  ...   \n",
       "\n",
       "   9945_Turnover  9945_Volume  9945_close  9945_eps  9945_high  9945_low  \\\n",
       "0       146528.0       3785.0       38.80      6.99      39.00      38.2   \n",
       "1       275480.0       7236.0       37.70      6.79      38.60      37.6   \n",
       "2       240982.0       6526.0       37.25      6.71      37.30      36.7   \n",
       "3        94300.0       2540.0       37.05      6.68      37.50      37.0   \n",
       "4       105420.0       2829.0       37.40      6.74      37.45      37.0   \n",
       "\n",
       "   9945_open  9945_ups_and_downs  9945_ups_percent  0056_close_y  \n",
       "0      38.25                0.65              1.70    319.623136  \n",
       "1      38.60               -1.10             -2.84    320.416337  \n",
       "2      36.80               -0.45             -1.19    320.416337  \n",
       "3      37.35               -0.20             -0.54    319.358946  \n",
       "4      37.05                0.35              0.94    314.621555  \n",
       "\n",
       "[5 rows x 92 columns]"
      ]
     },
     "execution_count": 14,
     "metadata": {},
     "output_type": "execute_result"
    }
   ],
   "source": [
    "data.head()"
   ]
  },
  {
   "cell_type": "code",
   "execution_count": 15,
   "metadata": {},
   "outputs": [
    {
     "name": "stdout",
     "output_type": "stream",
     "text": [
      "<class 'pandas.core.frame.DataFrame'>\n",
      "RangeIndex: 695 entries, 0 to 694\n",
      "Data columns (total 92 columns):\n",
      "date                  695 non-null int64\n",
      "1101_Turnover         688 non-null float64\n",
      "1101_Volume           688 non-null float64\n",
      "1101_close            686 non-null float64\n",
      "1101_eps              683 non-null float64\n",
      "1101_high             685 non-null float64\n",
      "1101_low              690 non-null float64\n",
      "1101_open             685 non-null float64\n",
      "1101_ups_and_downs    686 non-null float64\n",
      "1101_ups_percent      691 non-null float64\n",
      "2327_Turnover         674 non-null float64\n",
      "2327_Volume           679 non-null float64\n",
      "2327_close            676 non-null float64\n",
      "2327_eps              679 non-null float64\n",
      "2327_high             673 non-null float64\n",
      "2327_low              677 non-null float64\n",
      "2327_open             677 non-null float64\n",
      "2327_ups_and_downs    676 non-null float64\n",
      "2327_ups_percent      680 non-null float64\n",
      "2352_Turnover         690 non-null float64\n",
      "2352_Volume           681 non-null float64\n",
      "2352_close            687 non-null float64\n",
      "2352_eps              689 non-null float64\n",
      "2352_high             686 non-null float64\n",
      "2352_low              682 non-null float64\n",
      "2352_open             690 non-null float64\n",
      "2352_ups_and_downs    687 non-null float64\n",
      "2352_ups_percent      675 non-null float64\n",
      "2385_Turnover         687 non-null float64\n",
      "2385_Volume           680 non-null float64\n",
      "2385_close            685 non-null float64\n",
      "2385_eps              684 non-null float64\n",
      "2385_high             689 non-null float64\n",
      "2385_low              690 non-null float64\n",
      "2385_open             690 non-null float64\n",
      "2385_ups_and_downs    683 non-null float64\n",
      "2385_ups_percent      685 non-null float64\n",
      "2449_Turnover         686 non-null float64\n",
      "2449_Volume           686 non-null float64\n",
      "2449_close            686 non-null float64\n",
      "2449_eps              684 non-null float64\n",
      "2449_high             684 non-null float64\n",
      "2449_low              685 non-null float64\n",
      "2449_open             687 non-null float64\n",
      "2449_ups_and_downs    693 non-null float64\n",
      "2449_ups_percent      684 non-null float64\n",
      "2915_Turnover         679 non-null float64\n",
      "2915_Volume           682 non-null float64\n",
      "2915_close            677 non-null float64\n",
      "2915_eps              681 non-null float64\n",
      "2915_high             677 non-null float64\n",
      "2915_low              672 non-null float64\n",
      "2915_open             679 non-null float64\n",
      "2915_ups_and_downs    681 non-null float64\n",
      "2915_ups_percent      676 non-null float64\n",
      "3005_Turnover         684 non-null float64\n",
      "3005_Volume           685 non-null float64\n",
      "3005_close            691 non-null float64\n",
      "3005_eps              690 non-null float64\n",
      "3005_high             682 non-null float64\n",
      "3005_low              686 non-null float64\n",
      "3005_open             685 non-null float64\n",
      "3005_ups_and_downs    686 non-null float64\n",
      "3005_ups_percent      689 non-null float64\n",
      "3532_Turnover         674 non-null float64\n",
      "3532_Volume           680 non-null float64\n",
      "3532_close            674 non-null float64\n",
      "3532_eps              681 non-null float64\n",
      "3532_high             683 non-null float64\n",
      "3532_low              682 non-null float64\n",
      "3532_open             681 non-null float64\n",
      "3532_ups_and_downs    681 non-null float64\n",
      "3532_ups_percent      675 non-null float64\n",
      "6176_Turnover         690 non-null float64\n",
      "6176_Volume           686 non-null float64\n",
      "6176_close            683 non-null float64\n",
      "6176_eps              683 non-null float64\n",
      "6176_high             684 non-null float64\n",
      "6176_low              685 non-null float64\n",
      "6176_open             691 non-null float64\n",
      "6176_ups_and_downs    688 non-null float64\n",
      "6176_ups_percent      691 non-null float64\n",
      "9945_Turnover         678 non-null float64\n",
      "9945_Volume           674 non-null float64\n",
      "9945_close            678 non-null float64\n",
      "9945_eps              682 non-null float64\n",
      "9945_high             680 non-null float64\n",
      "9945_low              677 non-null float64\n",
      "9945_open             680 non-null float64\n",
      "9945_ups_and_downs    683 non-null float64\n",
      "9945_ups_percent      681 non-null float64\n",
      "0056_close_y          695 non-null float64\n",
      "dtypes: float64(91), int64(1)\n",
      "memory usage: 499.7 KB\n"
     ]
    }
   ],
   "source": [
    "# Check data types in columns\n",
    "data.info()"
   ]
  },
  {
   "cell_type": "code",
   "execution_count": 16,
   "metadata": {},
   "outputs": [
    {
     "data": {
      "text/html": [
       "<div>\n",
       "<style scoped>\n",
       "    .dataframe tbody tr th:only-of-type {\n",
       "        vertical-align: middle;\n",
       "    }\n",
       "\n",
       "    .dataframe tbody tr th {\n",
       "        vertical-align: top;\n",
       "    }\n",
       "\n",
       "    .dataframe thead th {\n",
       "        text-align: right;\n",
       "    }\n",
       "</style>\n",
       "<table border=\"1\" class=\"dataframe\">\n",
       "  <thead>\n",
       "    <tr style=\"text-align: right;\">\n",
       "      <th></th>\n",
       "      <th>date</th>\n",
       "      <th>1101_Turnover</th>\n",
       "      <th>1101_Volume</th>\n",
       "      <th>1101_close</th>\n",
       "      <th>1101_eps</th>\n",
       "      <th>1101_high</th>\n",
       "      <th>1101_low</th>\n",
       "      <th>1101_open</th>\n",
       "      <th>1101_ups_and_downs</th>\n",
       "      <th>1101_ups_percent</th>\n",
       "      <th>...</th>\n",
       "      <th>9945_Turnover</th>\n",
       "      <th>9945_Volume</th>\n",
       "      <th>9945_close</th>\n",
       "      <th>9945_eps</th>\n",
       "      <th>9945_high</th>\n",
       "      <th>9945_low</th>\n",
       "      <th>9945_open</th>\n",
       "      <th>9945_ups_and_downs</th>\n",
       "      <th>9945_ups_percent</th>\n",
       "      <th>0056_close_y</th>\n",
       "    </tr>\n",
       "  </thead>\n",
       "  <tbody>\n",
       "    <tr>\n",
       "      <th>count</th>\n",
       "      <td>695.000000</td>\n",
       "      <td>6.880000e+02</td>\n",
       "      <td>688.000000</td>\n",
       "      <td>686.000000</td>\n",
       "      <td>683.000000</td>\n",
       "      <td>685.000000</td>\n",
       "      <td>690.000000</td>\n",
       "      <td>685.000000</td>\n",
       "      <td>686.000000</td>\n",
       "      <td>691.000000</td>\n",
       "      <td>...</td>\n",
       "      <td>6.780000e+02</td>\n",
       "      <td>674.000000</td>\n",
       "      <td>678.000000</td>\n",
       "      <td>682.000000</td>\n",
       "      <td>680.000000</td>\n",
       "      <td>677.000000</td>\n",
       "      <td>680.000000</td>\n",
       "      <td>683.000000</td>\n",
       "      <td>681.000000</td>\n",
       "      <td>695.000000</td>\n",
       "    </tr>\n",
       "    <tr>\n",
       "      <th>mean</th>\n",
       "      <td>7329.509353</td>\n",
       "      <td>4.687623e+05</td>\n",
       "      <td>11953.345930</td>\n",
       "      <td>37.944898</td>\n",
       "      <td>16.929550</td>\n",
       "      <td>38.264380</td>\n",
       "      <td>37.632826</td>\n",
       "      <td>37.962263</td>\n",
       "      <td>0.011224</td>\n",
       "      <td>0.047221</td>\n",
       "      <td>...</td>\n",
       "      <td>1.177308e+05</td>\n",
       "      <td>3233.017804</td>\n",
       "      <td>37.392625</td>\n",
       "      <td>5.736973</td>\n",
       "      <td>37.696912</td>\n",
       "      <td>37.122452</td>\n",
       "      <td>37.430882</td>\n",
       "      <td>0.003953</td>\n",
       "      <td>0.026505</td>\n",
       "      <td>330.348985</td>\n",
       "    </tr>\n",
       "    <tr>\n",
       "      <th>std</th>\n",
       "      <td>298.190256</td>\n",
       "      <td>4.148476e+05</td>\n",
       "      <td>10004.940186</td>\n",
       "      <td>3.516037</td>\n",
       "      <td>5.004092</td>\n",
       "      <td>3.575855</td>\n",
       "      <td>3.454653</td>\n",
       "      <td>3.529601</td>\n",
       "      <td>0.559064</td>\n",
       "      <td>1.425774</td>\n",
       "      <td>...</td>\n",
       "      <td>1.028235e+05</td>\n",
       "      <td>2810.682796</td>\n",
       "      <td>5.352555</td>\n",
       "      <td>1.797470</td>\n",
       "      <td>5.404950</td>\n",
       "      <td>5.317271</td>\n",
       "      <td>5.368352</td>\n",
       "      <td>0.762842</td>\n",
       "      <td>2.062097</td>\n",
       "      <td>31.710288</td>\n",
       "    </tr>\n",
       "    <tr>\n",
       "      <th>min</th>\n",
       "      <td>6815.000000</td>\n",
       "      <td>2.577000e+04</td>\n",
       "      <td>762.000000</td>\n",
       "      <td>33.400000</td>\n",
       "      <td>9.200000</td>\n",
       "      <td>33.550000</td>\n",
       "      <td>32.700000</td>\n",
       "      <td>33.000000</td>\n",
       "      <td>-4.600000</td>\n",
       "      <td>-10.200000</td>\n",
       "      <td>...</td>\n",
       "      <td>1.694700e+04</td>\n",
       "      <td>364.000000</td>\n",
       "      <td>27.700000</td>\n",
       "      <td>2.760000</td>\n",
       "      <td>27.850000</td>\n",
       "      <td>27.600000</td>\n",
       "      <td>27.700000</td>\n",
       "      <td>-5.000000</td>\n",
       "      <td>-12.700000</td>\n",
       "      <td>258.762846</td>\n",
       "    </tr>\n",
       "    <tr>\n",
       "      <th>25%</th>\n",
       "      <td>7075.500000</td>\n",
       "      <td>1.828635e+05</td>\n",
       "      <td>5059.750000</td>\n",
       "      <td>35.100000</td>\n",
       "      <td>10.825350</td>\n",
       "      <td>35.300000</td>\n",
       "      <td>34.800000</td>\n",
       "      <td>35.000000</td>\n",
       "      <td>-0.200000</td>\n",
       "      <td>-0.570000</td>\n",
       "      <td>...</td>\n",
       "      <td>5.949675e+04</td>\n",
       "      <td>1544.000000</td>\n",
       "      <td>33.650000</td>\n",
       "      <td>4.312200</td>\n",
       "      <td>33.937500</td>\n",
       "      <td>33.450000</td>\n",
       "      <td>33.650000</td>\n",
       "      <td>-0.250000</td>\n",
       "      <td>-0.700000</td>\n",
       "      <td>306.283847</td>\n",
       "    </tr>\n",
       "    <tr>\n",
       "      <th>50%</th>\n",
       "      <td>7333.000000</td>\n",
       "      <td>3.302385e+05</td>\n",
       "      <td>9049.000000</td>\n",
       "      <td>37.000000</td>\n",
       "      <td>18.390000</td>\n",
       "      <td>37.350000</td>\n",
       "      <td>36.700000</td>\n",
       "      <td>37.100000</td>\n",
       "      <td>0.000000</td>\n",
       "      <td>0.000000</td>\n",
       "      <td>...</td>\n",
       "      <td>8.806750e+04</td>\n",
       "      <td>2482.500000</td>\n",
       "      <td>36.150000</td>\n",
       "      <td>6.095000</td>\n",
       "      <td>36.500000</td>\n",
       "      <td>35.800000</td>\n",
       "      <td>36.200000</td>\n",
       "      <td>0.000000</td>\n",
       "      <td>0.000000</td>\n",
       "      <td>333.776021</td>\n",
       "    </tr>\n",
       "    <tr>\n",
       "      <th>75%</th>\n",
       "      <td>7583.500000</td>\n",
       "      <td>6.325072e+05</td>\n",
       "      <td>15913.000000</td>\n",
       "      <td>40.537500</td>\n",
       "      <td>20.520000</td>\n",
       "      <td>41.200000</td>\n",
       "      <td>40.200000</td>\n",
       "      <td>40.650000</td>\n",
       "      <td>0.250000</td>\n",
       "      <td>0.690000</td>\n",
       "      <td>...</td>\n",
       "      <td>1.388258e+05</td>\n",
       "      <td>3970.000000</td>\n",
       "      <td>41.387500</td>\n",
       "      <td>7.500000</td>\n",
       "      <td>41.750000</td>\n",
       "      <td>41.200000</td>\n",
       "      <td>41.525000</td>\n",
       "      <td>0.250000</td>\n",
       "      <td>0.720000</td>\n",
       "      <td>351.675916</td>\n",
       "    </tr>\n",
       "    <tr>\n",
       "      <th>max</th>\n",
       "      <td>7846.000000</td>\n",
       "      <td>3.164707e+06</td>\n",
       "      <td>75535.000000</td>\n",
       "      <td>46.350000</td>\n",
       "      <td>28.470000</td>\n",
       "      <td>47.300000</td>\n",
       "      <td>46.050000</td>\n",
       "      <td>46.900000</td>\n",
       "      <td>2.850000</td>\n",
       "      <td>6.680000</td>\n",
       "      <td>...</td>\n",
       "      <td>1.080562e+06</td>\n",
       "      <td>30739.000000</td>\n",
       "      <td>50.500000</td>\n",
       "      <td>8.890000</td>\n",
       "      <td>51.600000</td>\n",
       "      <td>50.400000</td>\n",
       "      <td>50.700000</td>\n",
       "      <td>14.750000</td>\n",
       "      <td>41.260000</td>\n",
       "      <td>395.103241</td>\n",
       "    </tr>\n",
       "  </tbody>\n",
       "</table>\n",
       "<p>8 rows × 92 columns</p>\n",
       "</div>"
      ],
      "text/plain": [
       "              date  1101_Turnover   1101_Volume  1101_close    1101_eps  \\\n",
       "count   695.000000   6.880000e+02    688.000000  686.000000  683.000000   \n",
       "mean   7329.509353   4.687623e+05  11953.345930   37.944898   16.929550   \n",
       "std     298.190256   4.148476e+05  10004.940186    3.516037    5.004092   \n",
       "min    6815.000000   2.577000e+04    762.000000   33.400000    9.200000   \n",
       "25%    7075.500000   1.828635e+05   5059.750000   35.100000   10.825350   \n",
       "50%    7333.000000   3.302385e+05   9049.000000   37.000000   18.390000   \n",
       "75%    7583.500000   6.325072e+05  15913.000000   40.537500   20.520000   \n",
       "max    7846.000000   3.164707e+06  75535.000000   46.350000   28.470000   \n",
       "\n",
       "        1101_high    1101_low   1101_open  1101_ups_and_downs  \\\n",
       "count  685.000000  690.000000  685.000000          686.000000   \n",
       "mean    38.264380   37.632826   37.962263            0.011224   \n",
       "std      3.575855    3.454653    3.529601            0.559064   \n",
       "min     33.550000   32.700000   33.000000           -4.600000   \n",
       "25%     35.300000   34.800000   35.000000           -0.200000   \n",
       "50%     37.350000   36.700000   37.100000            0.000000   \n",
       "75%     41.200000   40.200000   40.650000            0.250000   \n",
       "max     47.300000   46.050000   46.900000            2.850000   \n",
       "\n",
       "       1101_ups_percent  ...  9945_Turnover   9945_Volume  9945_close  \\\n",
       "count        691.000000  ...   6.780000e+02    674.000000  678.000000   \n",
       "mean           0.047221  ...   1.177308e+05   3233.017804   37.392625   \n",
       "std            1.425774  ...   1.028235e+05   2810.682796    5.352555   \n",
       "min          -10.200000  ...   1.694700e+04    364.000000   27.700000   \n",
       "25%           -0.570000  ...   5.949675e+04   1544.000000   33.650000   \n",
       "50%            0.000000  ...   8.806750e+04   2482.500000   36.150000   \n",
       "75%            0.690000  ...   1.388258e+05   3970.000000   41.387500   \n",
       "max            6.680000  ...   1.080562e+06  30739.000000   50.500000   \n",
       "\n",
       "         9945_eps   9945_high    9945_low   9945_open  9945_ups_and_downs  \\\n",
       "count  682.000000  680.000000  677.000000  680.000000          683.000000   \n",
       "mean     5.736973   37.696912   37.122452   37.430882            0.003953   \n",
       "std      1.797470    5.404950    5.317271    5.368352            0.762842   \n",
       "min      2.760000   27.850000   27.600000   27.700000           -5.000000   \n",
       "25%      4.312200   33.937500   33.450000   33.650000           -0.250000   \n",
       "50%      6.095000   36.500000   35.800000   36.200000            0.000000   \n",
       "75%      7.500000   41.750000   41.200000   41.525000            0.250000   \n",
       "max      8.890000   51.600000   50.400000   50.700000           14.750000   \n",
       "\n",
       "       9945_ups_percent  0056_close_y  \n",
       "count        681.000000    695.000000  \n",
       "mean           0.026505    330.348985  \n",
       "std            2.062097     31.710288  \n",
       "min          -12.700000    258.762846  \n",
       "25%           -0.700000    306.283847  \n",
       "50%            0.000000    333.776021  \n",
       "75%            0.720000    351.675916  \n",
       "max           41.260000    395.103241  \n",
       "\n",
       "[8 rows x 92 columns]"
      ]
     },
     "execution_count": 16,
     "metadata": {},
     "output_type": "execute_result"
    }
   ],
   "source": [
    "# Get descriptive statistics summary of data set \n",
    "data.describe()"
   ]
  },
  {
   "cell_type": "code",
   "execution_count": 17,
   "metadata": {},
   "outputs": [
    {
     "data": {
      "text/plain": [
       "Index(['date', '1101_Turnover', '1101_Volume', '1101_close', '1101_eps',\n",
       "       '1101_high', '1101_low', '1101_open', '1101_ups_and_downs',\n",
       "       '1101_ups_percent', '2327_Turnover', '2327_Volume', '2327_close',\n",
       "       '2327_eps', '2327_high', '2327_low', '2327_open', '2327_ups_and_downs',\n",
       "       '2327_ups_percent', '2352_Turnover', '2352_Volume', '2352_close',\n",
       "       '2352_eps', '2352_high', '2352_low', '2352_open', '2352_ups_and_downs',\n",
       "       '2352_ups_percent', '2385_Turnover', '2385_Volume', '2385_close',\n",
       "       '2385_eps', '2385_high', '2385_low', '2385_open', '2385_ups_and_downs',\n",
       "       '2385_ups_percent', '2449_Turnover', '2449_Volume', '2449_close',\n",
       "       '2449_eps', '2449_high', '2449_low', '2449_open', '2449_ups_and_downs',\n",
       "       '2449_ups_percent', '2915_Turnover', '2915_Volume', '2915_close',\n",
       "       '2915_eps', '2915_high', '2915_low', '2915_open', '2915_ups_and_downs',\n",
       "       '2915_ups_percent', '3005_Turnover', '3005_Volume', '3005_close',\n",
       "       '3005_eps', '3005_high', '3005_low', '3005_open', '3005_ups_and_downs',\n",
       "       '3005_ups_percent', '3532_Turnover', '3532_Volume', '3532_close',\n",
       "       '3532_eps', '3532_high', '3532_low', '3532_open', '3532_ups_and_downs',\n",
       "       '3532_ups_percent', '6176_Turnover', '6176_Volume', '6176_close',\n",
       "       '6176_eps', '6176_high', '6176_low', '6176_open', '6176_ups_and_downs',\n",
       "       '6176_ups_percent', '9945_Turnover', '9945_Volume', '9945_close',\n",
       "       '9945_eps', '9945_high', '9945_low', '9945_open', '9945_ups_and_downs',\n",
       "       '9945_ups_percent', '0056_close_y'],\n",
       "      dtype='object')"
      ]
     },
     "execution_count": 17,
     "metadata": {},
     "output_type": "execute_result"
    }
   ],
   "source": [
    "# Display features in data set\n",
    "data.columns"
   ]
  },
  {
   "cell_type": "markdown",
   "metadata": {},
   "source": [
    "# 補缺值"
   ]
  },
  {
   "cell_type": "code",
   "execution_count": 18,
   "metadata": {},
   "outputs": [
    {
     "data": {
      "text/plain": [
       "date                   0\n",
       "1101_Turnover          7\n",
       "1101_Volume            7\n",
       "1101_close             9\n",
       "1101_eps              12\n",
       "                      ..\n",
       "9945_low              18\n",
       "9945_open             15\n",
       "9945_ups_and_downs    12\n",
       "9945_ups_percent      14\n",
       "0056_close_y           0\n",
       "Length: 92, dtype: int64"
      ]
     },
     "execution_count": 18,
     "metadata": {},
     "output_type": "execute_result"
    }
   ],
   "source": [
    "data.isnull().sum()"
   ]
  },
  {
   "cell_type": "code",
   "execution_count": 19,
   "metadata": {},
   "outputs": [],
   "source": [
    "#直覺先補前一項\n",
    "data = data.fillna(method=\"ffill\")"
   ]
  },
  {
   "cell_type": "code",
   "execution_count": 20,
   "metadata": {},
   "outputs": [
    {
     "data": {
      "text/plain": [
       "date                  0\n",
       "1101_Turnover         0\n",
       "1101_Volume           0\n",
       "1101_close            0\n",
       "1101_eps              0\n",
       "                     ..\n",
       "9945_low              0\n",
       "9945_open             0\n",
       "9945_ups_and_downs    0\n",
       "9945_ups_percent      0\n",
       "0056_close_y          0\n",
       "Length: 92, dtype: int64"
      ]
     },
     "execution_count": 20,
     "metadata": {},
     "output_type": "execute_result"
    }
   ],
   "source": [
    "#check\n",
    "data.isnull().sum()"
   ]
  },
  {
   "cell_type": "markdown",
   "metadata": {},
   "source": [
    "# drop"
   ]
  },
  {
   "cell_type": "code",
   "execution_count": 21,
   "metadata": {},
   "outputs": [],
   "source": [
    "data = data.drop(columns = ['1101_ups_percent',\n",
    "        '1101_eps','2327_ups_percent',\n",
    "        '2327_eps','2352_ups_percent',\n",
    "        '2352_eps','2385_ups_percent',\n",
    "        '2385_eps','2449_ups_percent',\n",
    "        '2449_eps','2915_ups_percent',\n",
    "        '2915_eps','3005_ups_percent',\n",
    "        '3005_eps','3532_ups_percent',\n",
    "        '3532_eps','6176_ups_percent',\n",
    "        '6176_eps','9945_ups_percent',\n",
    "        '9945_eps'])"
   ]
  },
  {
   "cell_type": "code",
   "execution_count": 22,
   "metadata": {},
   "outputs": [
    {
     "data": {
      "text/plain": [
       "Index(['date', '1101_Turnover', '1101_Volume', '1101_close', '1101_high',\n",
       "       '1101_low', '1101_open', '1101_ups_and_downs', '2327_Turnover',\n",
       "       '2327_Volume', '2327_close', '2327_high', '2327_low', '2327_open',\n",
       "       '2327_ups_and_downs', '2352_Turnover', '2352_Volume', '2352_close',\n",
       "       '2352_high', '2352_low', '2352_open', '2352_ups_and_downs',\n",
       "       '2385_Turnover', '2385_Volume', '2385_close', '2385_high', '2385_low',\n",
       "       '2385_open', '2385_ups_and_downs', '2449_Turnover', '2449_Volume',\n",
       "       '2449_close', '2449_high', '2449_low', '2449_open',\n",
       "       '2449_ups_and_downs', '2915_Turnover', '2915_Volume', '2915_close',\n",
       "       '2915_high', '2915_low', '2915_open', '2915_ups_and_downs',\n",
       "       '3005_Turnover', '3005_Volume', '3005_close', '3005_high', '3005_low',\n",
       "       '3005_open', '3005_ups_and_downs', '3532_Turnover', '3532_Volume',\n",
       "       '3532_close', '3532_high', '3532_low', '3532_open',\n",
       "       '3532_ups_and_downs', '6176_Turnover', '6176_Volume', '6176_close',\n",
       "       '6176_high', '6176_low', '6176_open', '6176_ups_and_downs',\n",
       "       '9945_Turnover', '9945_Volume', '9945_close', '9945_high', '9945_low',\n",
       "       '9945_open', '9945_ups_and_downs', '0056_close_y'],\n",
       "      dtype='object')"
      ]
     },
     "execution_count": 22,
     "metadata": {},
     "output_type": "execute_result"
    }
   ],
   "source": [
    "data.columns"
   ]
  },
  {
   "cell_type": "code",
   "execution_count": 23,
   "metadata": {},
   "outputs": [],
   "source": [
    "#排序\n",
    "data = data[['date', '1101_open', '1101_high', '1101_low', '1101_close',\n",
    "       '1101_ups_and_downs', '1101_Volume', '1101_Turnover', '2327_open',\n",
    "       '2327_high', '2327_low', '2327_close', '2327_ups_and_downs',\n",
    "       '2327_Volume', '2327_Turnover', '2352_open', '2352_high', '2352_low',\n",
    "       '2352_close', '2352_ups_and_downs', '2352_Volume', '2352_Turnover',\n",
    "       '2385_open', '2385_high', '2385_low', '2385_close',\n",
    "       '2385_ups_and_downs', '2385_Volume', '2385_Turnover', '2449_open',\n",
    "       '2449_high', '2449_low', '2449_close', '2449_ups_and_downs',\n",
    "       '2449_Volume', '2449_Turnover', '2915_open', '2915_high', '2915_low',\n",
    "       '2915_close', '2915_ups_and_downs', '2915_Volume', '2915_Turnover',\n",
    "       '3005_open', '3005_high', '3005_low', '3005_close',\n",
    "       '3005_ups_and_downs', '3005_Volume', '3005_Turnover', '3532_open',\n",
    "       '3532_high', '3532_low', '3532_close', '3532_ups_and_downs',\n",
    "       '3532_Volume', '3532_Turnover', '6176_open', '6176_high', '6176_low',\n",
    "       '6176_close', '6176_ups_and_downs', '6176_Volume', '6176_Turnover',\n",
    "       '9945_open', '9945_high', '9945_low', '9945_close',\n",
    "       '9945_ups_and_downs', '9945_Volume', '9945_Turnover','0056_close_y']]"
   ]
  },
  {
   "cell_type": "markdown",
   "metadata": {},
   "source": [
    "### Create and Train the Model"
   ]
  },
  {
   "cell_type": "code",
   "execution_count": 24,
   "metadata": {},
   "outputs": [],
   "source": [
    "X_train = data.iloc[:,1:-1]\n",
    "y_train = data['0056_close_y']"
   ]
  },
  {
   "cell_type": "markdown",
   "metadata": {},
   "source": [
    "## Test 2020"
   ]
  },
  {
   "cell_type": "code",
   "execution_count": 25,
   "metadata": {},
   "outputs": [],
   "source": [
    "df_test = pd.read_csv('test.csv')"
   ]
  },
  {
   "cell_type": "code",
   "execution_count": 26,
   "metadata": {},
   "outputs": [],
   "source": [
    "#反轉\n",
    "df_test = df_test.iloc[::-1]"
   ]
  },
  {
   "cell_type": "code",
   "execution_count": 27,
   "metadata": {},
   "outputs": [],
   "source": [
    "df_test = df_test.to_csv('test_reverse.csv',index=False)"
   ]
  },
  {
   "cell_type": "code",
   "execution_count": 28,
   "metadata": {},
   "outputs": [],
   "source": [
    "df_test = pd.read_csv('test_reverse.csv')"
   ]
  },
  {
   "cell_type": "code",
   "execution_count": 29,
   "metadata": {},
   "outputs": [
    {
     "data": {
      "text/plain": [
       "(157, 92)"
      ]
     },
     "execution_count": 29,
     "metadata": {},
     "output_type": "execute_result"
    }
   ],
   "source": [
    "df_test.shape"
   ]
  },
  {
   "cell_type": "markdown",
   "metadata": {},
   "source": [
    "# 補缺值"
   ]
  },
  {
   "cell_type": "code",
   "execution_count": 30,
   "metadata": {},
   "outputs": [
    {
     "data": {
      "text/plain": [
       "date                    0\n",
       "1101_Turnover           1\n",
       "1101_Volume             6\n",
       "1101_close              2\n",
       "1101_eps                4\n",
       "                     ... \n",
       "9945_low                4\n",
       "9945_open               7\n",
       "9945_ups_and_downs      1\n",
       "9945_ups_percent        8\n",
       "0056_close_y          157\n",
       "Length: 92, dtype: int64"
      ]
     },
     "execution_count": 30,
     "metadata": {},
     "output_type": "execute_result"
    }
   ],
   "source": [
    "df_test.isnull().sum()"
   ]
  },
  {
   "cell_type": "code",
   "execution_count": 31,
   "metadata": {},
   "outputs": [],
   "source": [
    "df_test = df_test.fillna(method=\"ffill\")"
   ]
  },
  {
   "cell_type": "markdown",
   "metadata": {},
   "source": [
    "# 新增解答\n",
    "- 為了提升驗證速度所以先合併解答"
   ]
  },
  {
   "cell_type": "code",
   "execution_count": 32,
   "metadata": {},
   "outputs": [],
   "source": [
    "solution = pd.read_csv('../Taichung 5-mid/new_data/derived.csv')"
   ]
  },
  {
   "cell_type": "code",
   "execution_count": 33,
   "metadata": {},
   "outputs": [],
   "source": [
    "df_test['0056_close_y'] = solution['0056_close_y']"
   ]
  },
  {
   "cell_type": "code",
   "execution_count": 34,
   "metadata": {},
   "outputs": [
    {
     "data": {
      "text/html": [
       "<div>\n",
       "<style scoped>\n",
       "    .dataframe tbody tr th:only-of-type {\n",
       "        vertical-align: middle;\n",
       "    }\n",
       "\n",
       "    .dataframe tbody tr th {\n",
       "        vertical-align: top;\n",
       "    }\n",
       "\n",
       "    .dataframe thead th {\n",
       "        text-align: right;\n",
       "    }\n",
       "</style>\n",
       "<table border=\"1\" class=\"dataframe\">\n",
       "  <thead>\n",
       "    <tr style=\"text-align: right;\">\n",
       "      <th></th>\n",
       "      <th>date</th>\n",
       "      <th>1101_Turnover</th>\n",
       "      <th>1101_Volume</th>\n",
       "      <th>1101_close</th>\n",
       "      <th>1101_eps</th>\n",
       "      <th>1101_high</th>\n",
       "      <th>1101_low</th>\n",
       "      <th>1101_open</th>\n",
       "      <th>1101_ups_and_downs</th>\n",
       "      <th>1101_ups_percent</th>\n",
       "      <th>...</th>\n",
       "      <th>9945_Turnover</th>\n",
       "      <th>9945_Volume</th>\n",
       "      <th>9945_close</th>\n",
       "      <th>9945_eps</th>\n",
       "      <th>9945_high</th>\n",
       "      <th>9945_low</th>\n",
       "      <th>9945_open</th>\n",
       "      <th>9945_ups_and_downs</th>\n",
       "      <th>9945_ups_percent</th>\n",
       "      <th>0056_close_y</th>\n",
       "    </tr>\n",
       "  </thead>\n",
       "  <tbody>\n",
       "    <tr>\n",
       "      <th>0</th>\n",
       "      <td>7847</td>\n",
       "      <td>1331414.0</td>\n",
       "      <td>30143.0</td>\n",
       "      <td>44.05</td>\n",
       "      <td>10.5383</td>\n",
       "      <td>44.55</td>\n",
       "      <td>44.00</td>\n",
       "      <td>44.50</td>\n",
       "      <td>-0.65</td>\n",
       "      <td>-1.45</td>\n",
       "      <td>...</td>\n",
       "      <td>48656.0</td>\n",
       "      <td>1180.0</td>\n",
       "      <td>41.10</td>\n",
       "      <td>4.3492</td>\n",
       "      <td>41.50</td>\n",
       "      <td>41.10</td>\n",
       "      <td>41.50</td>\n",
       "      <td>-0.35</td>\n",
       "      <td>-0.84</td>\n",
       "      <td>368.328063</td>\n",
       "    </tr>\n",
       "    <tr>\n",
       "      <th>1</th>\n",
       "      <td>7848</td>\n",
       "      <td>1208986.0</td>\n",
       "      <td>27673.0</td>\n",
       "      <td>43.55</td>\n",
       "      <td>10.4187</td>\n",
       "      <td>44.00</td>\n",
       "      <td>43.50</td>\n",
       "      <td>43.85</td>\n",
       "      <td>-0.50</td>\n",
       "      <td>-1.14</td>\n",
       "      <td>...</td>\n",
       "      <td>69802.0</td>\n",
       "      <td>1726.0</td>\n",
       "      <td>40.35</td>\n",
       "      <td>4.2698</td>\n",
       "      <td>40.75</td>\n",
       "      <td>40.30</td>\n",
       "      <td>40.75</td>\n",
       "      <td>-0.75</td>\n",
       "      <td>-1.82</td>\n",
       "      <td>361.285902</td>\n",
       "    </tr>\n",
       "    <tr>\n",
       "      <th>2</th>\n",
       "      <td>7851</td>\n",
       "      <td>844324.0</td>\n",
       "      <td>19388.0</td>\n",
       "      <td>43.55</td>\n",
       "      <td>10.4187</td>\n",
       "      <td>43.85</td>\n",
       "      <td>43.40</td>\n",
       "      <td>43.50</td>\n",
       "      <td>0.00</td>\n",
       "      <td>0.00</td>\n",
       "      <td>...</td>\n",
       "      <td>60085.0</td>\n",
       "      <td>1497.0</td>\n",
       "      <td>40.00</td>\n",
       "      <td>4.2328</td>\n",
       "      <td>40.55</td>\n",
       "      <td>40.00</td>\n",
       "      <td>40.10</td>\n",
       "      <td>-0.35</td>\n",
       "      <td>-0.87</td>\n",
       "      <td>359.046324</td>\n",
       "    </tr>\n",
       "    <tr>\n",
       "      <th>3</th>\n",
       "      <td>7852</td>\n",
       "      <td>925731.0</td>\n",
       "      <td>21429.0</td>\n",
       "      <td>43.30</td>\n",
       "      <td>10.3589</td>\n",
       "      <td>43.50</td>\n",
       "      <td>43.00</td>\n",
       "      <td>43.00</td>\n",
       "      <td>-0.25</td>\n",
       "      <td>-0.57</td>\n",
       "      <td>...</td>\n",
       "      <td>75116.0</td>\n",
       "      <td>1866.0</td>\n",
       "      <td>40.80</td>\n",
       "      <td>4.3175</td>\n",
       "      <td>41.05</td>\n",
       "      <td>39.20</td>\n",
       "      <td>39.60</td>\n",
       "      <td>0.80</td>\n",
       "      <td>2.00</td>\n",
       "      <td>356.534862</td>\n",
       "    </tr>\n",
       "    <tr>\n",
       "      <th>4</th>\n",
       "      <td>7853</td>\n",
       "      <td>925731.0</td>\n",
       "      <td>16771.0</td>\n",
       "      <td>43.35</td>\n",
       "      <td>10.3708</td>\n",
       "      <td>43.75</td>\n",
       "      <td>43.30</td>\n",
       "      <td>43.40</td>\n",
       "      <td>0.05</td>\n",
       "      <td>0.12</td>\n",
       "      <td>...</td>\n",
       "      <td>54069.0</td>\n",
       "      <td>1335.0</td>\n",
       "      <td>40.40</td>\n",
       "      <td>4.2751</td>\n",
       "      <td>40.65</td>\n",
       "      <td>40.40</td>\n",
       "      <td>40.55</td>\n",
       "      <td>-0.40</td>\n",
       "      <td>-0.98</td>\n",
       "      <td>360.165270</td>\n",
       "    </tr>\n",
       "    <tr>\n",
       "      <th>...</th>\n",
       "      <td>...</td>\n",
       "      <td>...</td>\n",
       "      <td>...</td>\n",
       "      <td>...</td>\n",
       "      <td>...</td>\n",
       "      <td>...</td>\n",
       "      <td>...</td>\n",
       "      <td>...</td>\n",
       "      <td>...</td>\n",
       "      <td>...</td>\n",
       "      <td>...</td>\n",
       "      <td>...</td>\n",
       "      <td>...</td>\n",
       "      <td>...</td>\n",
       "      <td>...</td>\n",
       "      <td>...</td>\n",
       "      <td>...</td>\n",
       "      <td>...</td>\n",
       "      <td>...</td>\n",
       "      <td>...</td>\n",
       "      <td>...</td>\n",
       "    </tr>\n",
       "    <tr>\n",
       "      <th>152</th>\n",
       "      <td>8082</td>\n",
       "      <td>1107450.0</td>\n",
       "      <td>30695.0</td>\n",
       "      <td>36.95</td>\n",
       "      <td>9.1010</td>\n",
       "      <td>36.95</td>\n",
       "      <td>34.50</td>\n",
       "      <td>35.80</td>\n",
       "      <td>-0.85</td>\n",
       "      <td>-2.30</td>\n",
       "      <td>...</td>\n",
       "      <td>110213.0</td>\n",
       "      <td>3647.0</td>\n",
       "      <td>30.10</td>\n",
       "      <td>2.7742</td>\n",
       "      <td>30.50</td>\n",
       "      <td>30.00</td>\n",
       "      <td>30.30</td>\n",
       "      <td>-1.10</td>\n",
       "      <td>-3.53</td>\n",
       "      <td>276.471357</td>\n",
       "    </tr>\n",
       "    <tr>\n",
       "      <th>153</th>\n",
       "      <td>8083</td>\n",
       "      <td>915895.0</td>\n",
       "      <td>23929.0</td>\n",
       "      <td>38.25</td>\n",
       "      <td>8.9369</td>\n",
       "      <td>38.70</td>\n",
       "      <td>37.80</td>\n",
       "      <td>38.30</td>\n",
       "      <td>2.15</td>\n",
       "      <td>5.96</td>\n",
       "      <td>...</td>\n",
       "      <td>138815.0</td>\n",
       "      <td>4426.0</td>\n",
       "      <td>31.45</td>\n",
       "      <td>2.8986</td>\n",
       "      <td>31.70</td>\n",
       "      <td>30.60</td>\n",
       "      <td>30.60</td>\n",
       "      <td>1.35</td>\n",
       "      <td>4.49</td>\n",
       "      <td>294.233518</td>\n",
       "    </tr>\n",
       "    <tr>\n",
       "      <th>154</th>\n",
       "      <td>8084</td>\n",
       "      <td>701750.0</td>\n",
       "      <td>17957.0</td>\n",
       "      <td>38.80</td>\n",
       "      <td>9.0654</td>\n",
       "      <td>39.50</td>\n",
       "      <td>38.70</td>\n",
       "      <td>39.05</td>\n",
       "      <td>0.55</td>\n",
       "      <td>1.44</td>\n",
       "      <td>...</td>\n",
       "      <td>174193.0</td>\n",
       "      <td>5304.0</td>\n",
       "      <td>33.40</td>\n",
       "      <td>3.0783</td>\n",
       "      <td>33.60</td>\n",
       "      <td>32.20</td>\n",
       "      <td>32.55</td>\n",
       "      <td>1.95</td>\n",
       "      <td>6.20</td>\n",
       "      <td>298.565270</td>\n",
       "    </tr>\n",
       "    <tr>\n",
       "      <th>155</th>\n",
       "      <td>8085</td>\n",
       "      <td>676632.0</td>\n",
       "      <td>17364.0</td>\n",
       "      <td>38.60</td>\n",
       "      <td>9.0187</td>\n",
       "      <td>39.50</td>\n",
       "      <td>38.55</td>\n",
       "      <td>39.50</td>\n",
       "      <td>-0.20</td>\n",
       "      <td>-0.52</td>\n",
       "      <td>...</td>\n",
       "      <td>137763.0</td>\n",
       "      <td>4122.0</td>\n",
       "      <td>33.75</td>\n",
       "      <td>3.1106</td>\n",
       "      <td>33.95</td>\n",
       "      <td>32.75</td>\n",
       "      <td>33.45</td>\n",
       "      <td>0.35</td>\n",
       "      <td>1.05</td>\n",
       "      <td>300.870883</td>\n",
       "    </tr>\n",
       "    <tr>\n",
       "      <th>156</th>\n",
       "      <td>8086</td>\n",
       "      <td>553158.0</td>\n",
       "      <td>14155.0</td>\n",
       "      <td>38.95</td>\n",
       "      <td>9.1005</td>\n",
       "      <td>39.45</td>\n",
       "      <td>38.80</td>\n",
       "      <td>39.30</td>\n",
       "      <td>0.35</td>\n",
       "      <td>0.91</td>\n",
       "      <td>...</td>\n",
       "      <td>138833.0</td>\n",
       "      <td>4005.0</td>\n",
       "      <td>34.80</td>\n",
       "      <td>3.2074</td>\n",
       "      <td>35.20</td>\n",
       "      <td>34.30</td>\n",
       "      <td>34.35</td>\n",
       "      <td>1.05</td>\n",
       "      <td>3.11</td>\n",
       "      <td>300.101397</td>\n",
       "    </tr>\n",
       "  </tbody>\n",
       "</table>\n",
       "<p>157 rows × 92 columns</p>\n",
       "</div>"
      ],
      "text/plain": [
       "     date  1101_Turnover  1101_Volume  1101_close  1101_eps  1101_high  \\\n",
       "0    7847      1331414.0      30143.0       44.05   10.5383      44.55   \n",
       "1    7848      1208986.0      27673.0       43.55   10.4187      44.00   \n",
       "2    7851       844324.0      19388.0       43.55   10.4187      43.85   \n",
       "3    7852       925731.0      21429.0       43.30   10.3589      43.50   \n",
       "4    7853       925731.0      16771.0       43.35   10.3708      43.75   \n",
       "..    ...            ...          ...         ...       ...        ...   \n",
       "152  8082      1107450.0      30695.0       36.95    9.1010      36.95   \n",
       "153  8083       915895.0      23929.0       38.25    8.9369      38.70   \n",
       "154  8084       701750.0      17957.0       38.80    9.0654      39.50   \n",
       "155  8085       676632.0      17364.0       38.60    9.0187      39.50   \n",
       "156  8086       553158.0      14155.0       38.95    9.1005      39.45   \n",
       "\n",
       "     1101_low  1101_open  1101_ups_and_downs  1101_ups_percent  ...  \\\n",
       "0       44.00      44.50               -0.65             -1.45  ...   \n",
       "1       43.50      43.85               -0.50             -1.14  ...   \n",
       "2       43.40      43.50                0.00              0.00  ...   \n",
       "3       43.00      43.00               -0.25             -0.57  ...   \n",
       "4       43.30      43.40                0.05              0.12  ...   \n",
       "..        ...        ...                 ...               ...  ...   \n",
       "152     34.50      35.80               -0.85             -2.30  ...   \n",
       "153     37.80      38.30                2.15              5.96  ...   \n",
       "154     38.70      39.05                0.55              1.44  ...   \n",
       "155     38.55      39.50               -0.20             -0.52  ...   \n",
       "156     38.80      39.30                0.35              0.91  ...   \n",
       "\n",
       "     9945_Turnover  9945_Volume  9945_close  9945_eps  9945_high  9945_low  \\\n",
       "0          48656.0       1180.0       41.10    4.3492      41.50     41.10   \n",
       "1          69802.0       1726.0       40.35    4.2698      40.75     40.30   \n",
       "2          60085.0       1497.0       40.00    4.2328      40.55     40.00   \n",
       "3          75116.0       1866.0       40.80    4.3175      41.05     39.20   \n",
       "4          54069.0       1335.0       40.40    4.2751      40.65     40.40   \n",
       "..             ...          ...         ...       ...        ...       ...   \n",
       "152       110213.0       3647.0       30.10    2.7742      30.50     30.00   \n",
       "153       138815.0       4426.0       31.45    2.8986      31.70     30.60   \n",
       "154       174193.0       5304.0       33.40    3.0783      33.60     32.20   \n",
       "155       137763.0       4122.0       33.75    3.1106      33.95     32.75   \n",
       "156       138833.0       4005.0       34.80    3.2074      35.20     34.30   \n",
       "\n",
       "     9945_open  9945_ups_and_downs  9945_ups_percent  0056_close_y  \n",
       "0        41.50               -0.35             -0.84    368.328063  \n",
       "1        40.75               -0.75             -1.82    361.285902  \n",
       "2        40.10               -0.35             -0.87    359.046324  \n",
       "3        39.60                0.80              2.00    356.534862  \n",
       "4        40.55               -0.40             -0.98    360.165270  \n",
       "..         ...                 ...               ...           ...  \n",
       "152      30.30               -1.10             -3.53    276.471357  \n",
       "153      30.60                1.35              4.49    294.233518  \n",
       "154      32.55                1.95              6.20    298.565270  \n",
       "155      33.45                0.35              1.05    300.870883  \n",
       "156      34.35                1.05              3.11    300.101397  \n",
       "\n",
       "[157 rows x 92 columns]"
      ]
     },
     "execution_count": 34,
     "metadata": {},
     "output_type": "execute_result"
    }
   ],
   "source": [
    "df_test"
   ]
  },
  {
   "cell_type": "code",
   "execution_count": 35,
   "metadata": {},
   "outputs": [],
   "source": [
    "df_test = df_test.drop(columns = ['1101_ups_percent',\n",
    "        '1101_eps','2327_ups_percent',\n",
    "        '2327_eps','2352_ups_percent',\n",
    "        '2352_eps','2385_ups_percent',\n",
    "        '2385_eps','2449_ups_percent',\n",
    "        '2449_eps','2915_ups_percent',\n",
    "        '2915_eps','3005_ups_percent',\n",
    "        '3005_eps','3532_ups_percent',\n",
    "        '3532_eps','6176_ups_percent',\n",
    "        '6176_eps','9945_ups_percent',\n",
    "        '9945_eps'])"
   ]
  },
  {
   "cell_type": "code",
   "execution_count": 36,
   "metadata": {},
   "outputs": [
    {
     "data": {
      "text/plain": [
       "Index(['date', '1101_Turnover', '1101_Volume', '1101_close', '1101_high',\n",
       "       '1101_low', '1101_open', '1101_ups_and_downs', '2327_Turnover',\n",
       "       '2327_Volume', '2327_close', '2327_high', '2327_low', '2327_open',\n",
       "       '2327_ups_and_downs', '2352_Turnover', '2352_Volume', '2352_close',\n",
       "       '2352_high', '2352_low', '2352_open', '2352_ups_and_downs',\n",
       "       '2385_Turnover', '2385_Volume', '2385_close', '2385_high', '2385_low',\n",
       "       '2385_open', '2385_ups_and_downs', '2449_Turnover', '2449_Volume',\n",
       "       '2449_close', '2449_high', '2449_low', '2449_open',\n",
       "       '2449_ups_and_downs', '2915_Turnover', '2915_Volume', '2915_close',\n",
       "       '2915_high', '2915_low', '2915_open', '2915_ups_and_downs',\n",
       "       '3005_Turnover', '3005_Volume', '3005_close', '3005_high', '3005_low',\n",
       "       '3005_open', '3005_ups_and_downs', '3532_Turnover', '3532_Volume',\n",
       "       '3532_close', '3532_high', '3532_low', '3532_open',\n",
       "       '3532_ups_and_downs', '6176_Turnover', '6176_Volume', '6176_close',\n",
       "       '6176_high', '6176_low', '6176_open', '6176_ups_and_downs',\n",
       "       '9945_Turnover', '9945_Volume', '9945_close', '9945_high', '9945_low',\n",
       "       '9945_open', '9945_ups_and_downs', '0056_close_y'],\n",
       "      dtype='object')"
      ]
     },
     "execution_count": 36,
     "metadata": {},
     "output_type": "execute_result"
    }
   ],
   "source": [
    "df_test.columns"
   ]
  },
  {
   "cell_type": "code",
   "execution_count": 37,
   "metadata": {},
   "outputs": [],
   "source": [
    "df_test = df_test[['date', '1101_open', '1101_high', '1101_low', '1101_close',\n",
    "       '1101_ups_and_downs', '1101_Volume', '1101_Turnover', '2327_open',\n",
    "       '2327_high', '2327_low', '2327_close', '2327_ups_and_downs',\n",
    "       '2327_Volume', '2327_Turnover', '2352_open', '2352_high', '2352_low',\n",
    "       '2352_close', '2352_ups_and_downs', '2352_Volume', '2352_Turnover',\n",
    "       '2385_open', '2385_high', '2385_low', '2385_close',\n",
    "       '2385_ups_and_downs', '2385_Volume', '2385_Turnover', '2449_open',\n",
    "       '2449_high', '2449_low', '2449_close', '2449_ups_and_downs',\n",
    "       '2449_Volume', '2449_Turnover', '2915_open', '2915_high', '2915_low',\n",
    "       '2915_close', '2915_ups_and_downs', '2915_Volume', '2915_Turnover',\n",
    "       '3005_open', '3005_high', '3005_low', '3005_close',\n",
    "       '3005_ups_and_downs', '3005_Volume', '3005_Turnover', '3532_open',\n",
    "       '3532_high', '3532_low', '3532_close', '3532_ups_and_downs',\n",
    "       '3532_Volume', '3532_Turnover', '6176_open', '6176_high', '6176_low',\n",
    "       '6176_close', '6176_ups_and_downs', '6176_Volume', '6176_Turnover',\n",
    "       '9945_open', '9945_high', '9945_low', '9945_close',\n",
    "       '9945_ups_and_downs', '9945_Volume', '9945_Turnover','0056_close_y']]"
   ]
  },
  {
   "cell_type": "markdown",
   "metadata": {},
   "source": [
    "# Create test"
   ]
  },
  {
   "cell_type": "code",
   "execution_count": 39,
   "metadata": {},
   "outputs": [],
   "source": [
    "# Create test arrays\n",
    "X_test = df_test.iloc[:,1:-1]\n",
    "y_test = df_test['0056_close_y']"
   ]
  },
  {
   "cell_type": "markdown",
   "metadata": {},
   "source": [
    "# Linear"
   ]
  },
  {
   "cell_type": "code",
   "execution_count": 40,
   "metadata": {},
   "outputs": [
    {
     "name": "stdout",
     "output_type": "stream",
     "text": [
      "-8.876328597187333\n",
      "{'copy_X': True, 'fit_intercept': True, 'normalize': True}\n"
     ]
    },
    {
     "name": "stderr",
     "output_type": "stream",
     "text": [
      "/opt/conda/lib/python3.7/site-packages/sklearn/model_selection/_search.py:813: DeprecationWarning: The default of the `iid` parameter will change from True to False in version 0.22 and will be removed in 0.24. This will change numeric results when test-set sizes are unequal.\n",
      "  DeprecationWarning)\n"
     ]
    }
   ],
   "source": [
    "#grid search\n",
    "# Import package for linear model\n",
    "from sklearn.linear_model import LinearRegression\n",
    "from sklearn.model_selection import GridSearchCV\n",
    "model = LinearRegression()\n",
    "parameters = {'fit_intercept':[True,False], 'normalize':[True,False], 'copy_X':[True, False]}\n",
    "grid = GridSearchCV(model,parameters, cv=None)\n",
    "grid.fit(X_train, y_train)\n",
    "\n",
    "print(grid.best_score_)\n",
    "print(grid.best_params_)"
   ]
  },
  {
   "cell_type": "code",
   "execution_count": 41,
   "metadata": {},
   "outputs": [
    {
     "data": {
      "text/plain": [
       "LinearRegression(copy_X=True, fit_intercept=True, n_jobs=None, normalize=True)"
      ]
     },
     "execution_count": 41,
     "metadata": {},
     "output_type": "execute_result"
    }
   ],
   "source": [
    "# Create LinearRegression Object\n",
    "model = LinearRegression(copy_X = True, fit_intercept = True, normalize = True)\n",
    "# Fit linear model using the train data set\n",
    "model.fit(X_train, y_train)"
   ]
  },
  {
   "cell_type": "code",
   "execution_count": 42,
   "metadata": {},
   "outputs": [],
   "source": [
    "# Generate array with predicted values\n",
    "y_pred_linear = model.predict(X_test)"
   ]
  },
  {
   "cell_type": "code",
   "execution_count": 43,
   "metadata": {},
   "outputs": [],
   "source": [
    "# Import metrics package from sklearn for statistical analysis\n",
    "from sklearn import metrics"
   ]
  },
  {
   "cell_type": "code",
   "execution_count": 44,
   "metadata": {},
   "outputs": [
    {
     "name": "stdout",
     "output_type": "stream",
     "text": [
      "Mean Absolute Error: 43.54455848635898\n",
      "Mean Squared Error: 2180.692644163449\n",
      "Root Mean Squared Error: 46.69788693467242\n",
      "MAPE:10.99\n"
     ]
    }
   ],
   "source": [
    "# Calculate and print values of MAE, MSE, RMSE\n",
    "print('Mean Absolute Error:', metrics.mean_absolute_error(y_test, y_pred_linear))  \n",
    "print('Mean Squared Error:', metrics.mean_squared_error(y_test, y_pred_linear))  \n",
    "print('Root Mean Squared Error:', np.sqrt(metrics.mean_squared_error(y_test, y_pred_linear)))\n",
    "def mape(y_true, y_pred):\n",
    "    return np.mean(np.abs((y_pred - y_true) / y_true)) * 100\n",
    "\n",
    "print('MAPE:%.2f'%mape(y_test, y_pred_linear)) # 76.07142857142858"
   ]
  },
  {
   "cell_type": "code",
   "execution_count": 45,
   "metadata": {},
   "outputs": [
    {
     "data": {
      "image/png": "[encoded data removed]",
      "text/plain": [
       "<Figure size 1152x720 with 1 Axes>"
      ]
     },
     "metadata": {},
     "output_type": "display_data"
    }
   ],
   "source": [
    "# Plot fitted line, y test\n",
    "plt.figure(1, figsize=(16,10))\n",
    "plt.title('Linear Regression | Price vs Time')\n",
    "plt.plot(X_test.index, model.predict(X_test), color='r', label='Predicted Price')\n",
    "plt.scatter(X_test.index, y_test, edgecolor='w', label='Actual Price')\n",
    "\n",
    "plt.xlabel('Integer Date')\n",
    "plt.ylabel('Stock Price in $')\n",
    "\n",
    "plt.show()"
   ]
  },
  {
   "cell_type": "markdown",
   "metadata": {},
   "source": [
    "# Bagging"
   ]
  },
  {
   "cell_type": "code",
   "execution_count": 46,
   "metadata": {},
   "outputs": [],
   "source": [
    "from sklearn.ensemble import BaggingRegressor\n",
    "regr = BaggingRegressor(base_estimator=LinearRegression(),n_estimators=10, random_state=0)"
   ]
  },
  {
   "cell_type": "code",
   "execution_count": 47,
   "metadata": {},
   "outputs": [
    {
     "data": {
      "text/plain": [
       "BaggingRegressor(base_estimator=LinearRegression(copy_X=True,\n",
       "                                                 fit_intercept=True,\n",
       "                                                 n_jobs=None, normalize=False),\n",
       "                 bootstrap=True, bootstrap_features=False, max_features=1.0,\n",
       "                 max_samples=1.0, n_estimators=10, n_jobs=None, oob_score=False,\n",
       "                 random_state=0, verbose=0, warm_start=False)"
      ]
     },
     "execution_count": 47,
     "metadata": {},
     "output_type": "execute_result"
    }
   ],
   "source": [
    "regr.fit(X_train, y_train)"
   ]
  },
  {
   "cell_type": "code",
   "execution_count": 48,
   "metadata": {},
   "outputs": [],
   "source": [
    "# Generate array with predicted values\n",
    "y_pred_bag = regr.predict(X_test)"
   ]
  },
  {
   "cell_type": "code",
   "execution_count": 49,
   "metadata": {},
   "outputs": [
    {
     "name": "stdout",
     "output_type": "stream",
     "text": [
      "Mean Absolute Error: 44.11693231601377\n",
      "Mean Squared Error: 2211.5197015436725\n",
      "Root Mean Squared Error: 47.02679769603361\n",
      "MAPE:11.13\n"
     ]
    }
   ],
   "source": [
    "# Calculate and print values of MAE, MSE, RMSE\n",
    "print('Mean Absolute Error:', metrics.mean_absolute_error(y_test, y_pred_bag))  \n",
    "print('Mean Squared Error:', metrics.mean_squared_error(y_test, y_pred_bag))  \n",
    "print('Root Mean Squared Error:', np.sqrt(metrics.mean_squared_error(y_test, y_pred_bag)))\n",
    "def mape(y_true, y_pred):\n",
    "    return np.mean(np.abs((y_pred - y_true) / y_true)) * 100\n",
    "\n",
    "print('MAPE:%.2f'%mape(y_test, y_pred_bag)) # 76.07142857142858"
   ]
  },
  {
   "cell_type": "code",
   "execution_count": 50,
   "metadata": {},
   "outputs": [
    {
     "data": {
      "image/png": "[encoded data removed]",
      "text/plain": [
       "<Figure size 1152x720 with 1 Axes>"
      ]
     },
     "metadata": {},
     "output_type": "display_data"
    }
   ],
   "source": [
    "# Plot fitted line, y test\n",
    "plt.figure(1, figsize=(16,10))\n",
    "plt.title('Linear Regression | Price vs Time')\n",
    "plt.plot(X_test.index, model.predict(X_test), color='r', label='Predicted Price')\n",
    "plt.scatter(X_test.index, y_test, edgecolor='w', label='Actual Price')\n",
    "\n",
    "plt.xlabel('Integer Date')\n",
    "plt.ylabel('Stock Price in $')\n",
    "\n",
    "plt.show()"
   ]
  },
  {
   "cell_type": "markdown",
   "metadata": {},
   "source": [
    "# Redige"
   ]
  },
  {
   "cell_type": "code",
   "execution_count": 51,
   "metadata": {},
   "outputs": [],
   "source": [
    "# Import package for linear model\n",
    "from sklearn.linear_model import Ridge"
   ]
  },
  {
   "cell_type": "code",
   "execution_count": 52,
   "metadata": {},
   "outputs": [],
   "source": [
    "model = Ridge(fit_intercept=True)"
   ]
  },
  {
   "cell_type": "code",
   "execution_count": 53,
   "metadata": {},
   "outputs": [],
   "source": [
    "model = BaggingRegressor(base_estimator=Ridge(fit_intercept=True),n_estimators=10, random_state=0)"
   ]
  },
  {
   "cell_type": "code",
   "execution_count": 54,
   "metadata": {},
   "outputs": [
    {
     "data": {
      "text/plain": [
       "BaggingRegressor(base_estimator=Ridge(alpha=1.0, copy_X=True,\n",
       "                                      fit_intercept=True, max_iter=None,\n",
       "                                      normalize=False, random_state=None,\n",
       "                                      solver='auto', tol=0.001),\n",
       "                 bootstrap=True, bootstrap_features=False, max_features=1.0,\n",
       "                 max_samples=1.0, n_estimators=10, n_jobs=None, oob_score=False,\n",
       "                 random_state=0, verbose=0, warm_start=False)"
      ]
     },
     "execution_count": 54,
     "metadata": {},
     "output_type": "execute_result"
    }
   ],
   "source": [
    "model.fit(X_train, y_train)"
   ]
  },
  {
   "cell_type": "code",
   "execution_count": 55,
   "metadata": {},
   "outputs": [],
   "source": [
    "# Generate array with predicted values\n",
    "y_pred_reg = model.predict(X_test)"
   ]
  },
  {
   "cell_type": "code",
   "execution_count": 56,
   "metadata": {},
   "outputs": [
    {
     "name": "stdout",
     "output_type": "stream",
     "text": [
      "Mean Absolute Error: 43.862128928864145\n",
      "Mean Squared Error: 2185.54599175064\n",
      "Root Mean Squared Error: 46.749823440849916\n",
      "MAPE:11.07\n"
     ]
    }
   ],
   "source": [
    "# Calculate and print values of MAE, MSE, RMSE\n",
    "print('Mean Absolute Error:', metrics.mean_absolute_error(y_test, y_pred_reg))  \n",
    "print('Mean Squared Error:', metrics.mean_squared_error(y_test, y_pred_reg))  \n",
    "print('Root Mean Squared Error:', np.sqrt(metrics.mean_squared_error(y_test, y_pred_reg)))\n",
    "def mape(y_true, y_pred):\n",
    "    return np.mean(np.abs((y_pred - y_true) / y_true)) * 100\n",
    "\n",
    "print('MAPE:%.2f'%mape(y_test, y_pred_reg)) # 76.07142857142858"
   ]
  },
  {
   "cell_type": "code",
   "execution_count": 57,
   "metadata": {},
   "outputs": [
    {
     "data": {
      "image/png": "[encoded data removed]",
      "text/plain": [
       "<Figure size 1152x720 with 1 Axes>"
      ]
     },
     "metadata": {},
     "output_type": "display_data"
    }
   ],
   "source": [
    "# Plot fitted line, y test\n",
    "plt.figure(1, figsize=(16,10))\n",
    "plt.title('Redige Regression | Price vs Time')\n",
    "plt.plot(X_test.index, model.predict(X_test), color='r', label='Predicted Price')\n",
    "plt.scatter(X_test.index, y_test, edgecolor='w', label='Actual Price')\n",
    "\n",
    "plt.xlabel('Integer Date')\n",
    "plt.ylabel('Stock Price in $')\n",
    "\n",
    "plt.show()"
   ]
  },
  {
   "cell_type": "markdown",
   "metadata": {},
   "source": [
    "# xgbregressor"
   ]
  },
  {
   "cell_type": "code",
   "execution_count": 58,
   "metadata": {},
   "outputs": [],
   "source": [
    "from xgboost.sklearn import XGBRegressor"
   ]
  },
  {
   "cell_type": "code",
   "execution_count": 59,
   "metadata": {},
   "outputs": [
    {
     "name": "stdout",
     "output_type": "stream",
     "text": [
      "-0.6633851715900463\n",
      "{'max_depth': 3, 'min_child_weight': 1}\n"
     ]
    }
   ],
   "source": [
    "param_test1 = {\n",
    "    'max_depth':[3,5,7,9],\n",
    "    'min_child_weight':[1,3,5]\n",
    "}\n",
    "gsearch1 = GridSearchCV(estimator = XGBRegressor(booster='gblinear',\n",
    "                    objective= 'reg:linear',\n",
    "                    eval_metric='rmse',\n",
    "                    gamma = 0.1,\n",
    "                    min_child_weight= 1.1,\n",
    "                    max_depth= 5,\n",
    "                    subsample= 0.8,\n",
    "                    colsample_bytree= 0.8,\n",
    "                    tree_method= 'exact',\n",
    "                    learning_rate=0.1,\n",
    "                    n_estimators=100,\n",
    "                    nthread=4,\n",
    "                    scale_pos_weight=1,\n",
    "                    seed=27),\n",
    "                       param_grid = param_test1,n_jobs=4,iid=False, cv=5)\n",
    "gsearch1.fit(X_train,y_train)\n",
    "print(gsearch1.best_score_)\n",
    "print(gsearch1.best_params_)"
   ]
  },
  {
   "cell_type": "code",
   "execution_count": 60,
   "metadata": {},
   "outputs": [],
   "source": [
    "xgb1 =XGBRegressor(booster='gblinear',\n",
    "                    objective= 'reg:linear',\n",
    "                    eval_metric='rmse',\n",
    "                    gamma = 0.1,\n",
    "                    min_child_weight= 1.1,\n",
    "                    max_depth= 5,\n",
    "                    subsample= 0.8,\n",
    "                    colsample_bytree= 0.8,\n",
    "                    tree_method= 'exact',\n",
    "                    learning_rate=0.1,\n",
    "                    n_estimators=100,\n",
    "                    nthread=4,\n",
    "                    scale_pos_weight=1,\n",
    "                    seed=27,\n",
    "                       param_grid = {'max_depth': 5, 'min_child_weight': 3},n_jobs=4,iid=False, cv=5)"
   ]
  },
  {
   "cell_type": "markdown",
   "metadata": {},
   "source": [
    "# try to bagging"
   ]
  },
  {
   "cell_type": "code",
   "execution_count": 68,
   "metadata": {},
   "outputs": [],
   "source": [
    "from sklearn.ensemble import BaggingRegressor\n",
    "xgb_bag = BaggingRegressor(base_estimator=xgb1,n_estimators=10, random_state=0)"
   ]
  },
  {
   "cell_type": "code",
   "execution_count": 69,
   "metadata": {},
   "outputs": [
    {
     "data": {
      "text/plain": [
       "BaggingRegressor(base_estimator=XGBRegressor(base_score=0.5, booster='gblinear',\n",
       "                                             colsample_bylevel=1,\n",
       "                                             colsample_bytree=0.8, cv=5,\n",
       "                                             eval_metric='rmse', gamma=0.1,\n",
       "                                             iid=False, learning_rate=0.1,\n",
       "                                             max_delta_step=0, max_depth=5,\n",
       "                                             min_child_weight=1.1, missing=None,\n",
       "                                             n_estimators=100, n_jobs=4,\n",
       "                                             nthread=4, objective='reg:linear',\n",
       "                                             param_grid={'max_depth': 5,\n",
       "                                                         'min_child_weight': 3},\n",
       "                                             random_state=0, reg_alpha=0,\n",
       "                                             reg_lambda=1, scale_pos_weight=1,\n",
       "                                             seed=27, silent=True,\n",
       "                                             subsample=0.8,\n",
       "                                             tree_method='exact'),\n",
       "                 bootstrap=True, bootstrap_features=False, max_features=1.0,\n",
       "                 max_samples=1.0, n_estimators=10, n_jobs=None, oob_score=False,\n",
       "                 random_state=0, verbose=0, warm_start=False)"
      ]
     },
     "execution_count": 69,
     "metadata": {},
     "output_type": "execute_result"
    }
   ],
   "source": [
    "xgb_bag.fit(X_train,y_train)"
   ]
  },
  {
   "cell_type": "code",
   "execution_count": 71,
   "metadata": {},
   "outputs": [
    {
     "data": {
      "text/plain": [
       "(157, 70)"
      ]
     },
     "execution_count": 71,
     "metadata": {},
     "output_type": "execute_result"
    }
   ],
   "source": [
    "X_test.shape"
   ]
  },
  {
   "cell_type": "code",
   "execution_count": 72,
   "metadata": {},
   "outputs": [],
   "source": [
    "# Generate array with predicted values\n",
    "y_pred_xgb = xgb_bag.predict(X_test)"
   ]
  },
  {
   "cell_type": "code",
   "execution_count": 73,
   "metadata": {},
   "outputs": [
    {
     "name": "stdout",
     "output_type": "stream",
     "text": [
      "Mean Absolute Error: 18.25735279666103\n",
      "Mean Squared Error: 613.4930004537987\n",
      "Root Mean Squared Error: 24.768790855707888\n",
      "MAPE:5.00\n"
     ]
    }
   ],
   "source": [
    "# Calculate and print values of MAE, MSE, RMSE\n",
    "print('Mean Absolute Error:', metrics.mean_absolute_error(y_test, y_pred_xgb))  \n",
    "print('Mean Squared Error:', metrics.mean_squared_error(y_test, y_pred_xgb))  \n",
    "print('Root Mean Squared Error:', np.sqrt(metrics.mean_squared_error(y_test, y_pred_xgb)))\n",
    "def mape(y_true, y_pred):\n",
    "    return np.mean(np.abs((y_pred - y_true) / y_true)) * 100\n",
    "\n",
    "print('MAPE:%.2f'%mape(y_test, y_pred_xgb)) # 76.07142857142858"
   ]
  },
  {
   "cell_type": "code",
   "execution_count": 74,
   "metadata": {},
   "outputs": [
    {
     "data": {
      "text/plain": [
       "395.10324110672"
      ]
     },
     "execution_count": 74,
     "metadata": {},
     "output_type": "execute_result"
    }
   ],
   "source": [
    "y_train.max()"
   ]
  },
  {
   "cell_type": "code",
   "execution_count": 75,
   "metadata": {},
   "outputs": [
    {
     "data": {
      "image/png": "[encoded data removed]",
      "text/plain": [
       "<Figure size 1152x720 with 1 Axes>"
      ]
     },
     "metadata": {},
     "output_type": "display_data"
    }
   ],
   "source": [
    "# Plot fitted line, y test\n",
    "plt.figure(1, figsize=(16,10))\n",
    "plt.title('Linear Regression | Price vs Time')\n",
    "plt.plot(X_test.index, xgb1.predict(X_test), color='r', label='Predicted Price')\n",
    "plt.scatter(X_test.index, y_test, edgecolor='w', label='Actual Price')\n",
    "\n",
    "plt.xlabel('Integer Date')\n",
    "plt.ylabel('Stock Price in $')\n",
    "\n",
    "plt.show()"
   ]
  },
  {
   "cell_type": "markdown",
   "metadata": {},
   "source": [
    "# submission"
   ]
  },
  {
   "cell_type": "code",
   "execution_count": 133,
   "metadata": {},
   "outputs": [],
   "source": [
    "sample_submission = pd.read_csv('./new_data/sample_submission (1).csv')"
   ]
  },
  {
   "cell_type": "code",
   "execution_count": 135,
   "metadata": {},
   "outputs": [],
   "source": [
    "my_submission = pd.DataFrame({'date': df_test['date'].astype(str), '0056_close_y': y_pred_xgb})\n",
    "my_submission.to_csv('submission.csv', index=False)"
   ]
  },
  {
   "cell_type": "code",
   "execution_count": 136,
   "metadata": {},
   "outputs": [],
   "source": [
    "sub = pd.read_csv('submission.csv')"
   ]
  },
  {
   "cell_type": "code",
   "execution_count": 137,
   "metadata": {},
   "outputs": [],
   "source": [
    "sub_1 = sub.iloc[::-1]"
   ]
  },
  {
   "cell_type": "code",
   "execution_count": 138,
   "metadata": {},
   "outputs": [],
   "source": [
    "sub_1.to_csv('submission_re.csv', index=False)"
   ]
  },
  {
   "cell_type": "code",
   "execution_count": 139,
   "metadata": {},
   "outputs": [],
   "source": [
    "sub_1 = pd.read_csv('submission_re.csv')"
   ]
  },
  {
   "cell_type": "code",
   "execution_count": 140,
   "metadata": {},
   "outputs": [],
   "source": [
    "sample_submission['0056_close_y'] = sub_1['0056_close_y']"
   ]
  },
  {
   "cell_type": "code",
   "execution_count": 141,
   "metadata": {},
   "outputs": [],
   "source": [
    "sample_submission.to_csv('./feature_result/submission_xgb_normal.csv', index=False)"
   ]
  }
 ],
 "metadata": {
  "kernelspec": {
   "display_name": "Python 3",
   "language": "python",
   "name": "python3"
  },
  "language_info": {
   "codemirror_mode": {
    "name": "ipython",
    "version": 3
   },
   "file_extension": ".py",
   "mimetype": "text/x-python",
   "name": "python",
   "nbconvert_exporter": "python",
   "pygments_lexer": "ipython3",
   "version": "3.7.3"
  }
 },
 "nbformat": 4,
 "nbformat_minor": 4
}
