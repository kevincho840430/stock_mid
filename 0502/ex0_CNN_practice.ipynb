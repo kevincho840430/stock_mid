{
 "cells": [
  {
   "cell_type": "markdown",
   "metadata": {
    "colab_type": "text",
    "id": "jVehH4MNhbTP"
   },
   "source": [
    "# CNN 練習"
   ]
  },
  {
   "cell_type": "markdown",
   "metadata": {
    "colab_type": "text",
    "id": "98Q6g2Bfu6hB"
   },
   "source": [
    "## 匯入所需套件"
   ]
  },
  {
   "cell_type": "code",
   "execution_count": 1,
   "metadata": {
    "colab": {
     "base_uri": "https://localhost:8080/",
     "height": 34
    },
    "colab_type": "code",
    "executionInfo": {
     "elapsed": 3133,
     "status": "ok",
     "timestamp": 1557555459040,
     "user": {
      "displayName": "孫歪理",
      "photoUrl": "https://lh5.googleusercontent.com/-KYg5kS-rHRc/AAAAAAAAAAI/AAAAAAAAACA/aIlJz64_ba4/s64/photo.jpg",
      "userId": "15280057578229510796"
     },
     "user_tz": -480
    },
    "id": "yjak5JgcXGlA",
    "outputId": "daa2d38c-ae8d-409f-cd83-329465f783e1"
   },
   "outputs": [
    {
     "data": {
      "text/plain": [
       "'/device:GPU:0'"
      ]
     },
     "execution_count": 1,
     "metadata": {},
     "output_type": "execute_result"
    }
   ],
   "source": [
    "# 檢查有沒有 GPU\n",
    "import tensorflow as tf\n",
    "tf.test.gpu_device_name()"
   ]
  },
  {
   "cell_type": "code",
   "execution_count": 2,
   "metadata": {
    "colab": {
     "base_uri": "https://localhost:8080/",
     "height": 34
    },
    "colab_type": "code",
    "executionInfo": {
     "elapsed": 3119,
     "status": "ok",
     "timestamp": 1557555459043,
     "user": {
      "displayName": "孫歪理",
      "photoUrl": "https://lh5.googleusercontent.com/-KYg5kS-rHRc/AAAAAAAAAAI/AAAAAAAAACA/aIlJz64_ba4/s64/photo.jpg",
      "userId": "15280057578229510796"
     },
     "user_tz": -480
    },
    "id": "C-K6b_vfX3iJ",
    "outputId": "d0ba920a-0ff2-45ef-9f70-440253442c65"
   },
   "outputs": [],
   "source": [
    "# import package\n",
    "from tensorflow import keras\n",
    "from tensorflow.keras.datasets import cifar10\n",
    "from tensorflow.keras.models import Sequential\n",
    "from tensorflow.keras.layers import Dense, Dropout, Activation, Flatten, BatchNormalization\n",
    "from tensorflow.keras.layers import Conv2D, MaxPooling2D\n",
    "import numpy as np\n",
    "import os\n",
    "\n",
    "import matplotlib.pyplot as plt\n",
    "%matplotlib inline"
   ]
  },
  {
   "cell_type": "markdown",
   "metadata": {
    "colab_type": "text",
    "id": "awautmYIh4a2"
   },
   "source": [
    "## Cifar10 資料讀入及前處理\n",
    "- 總共有10類"
   ]
  },
  {
   "cell_type": "markdown",
   "metadata": {},
   "source": [
    "# <img src=\"cifar10_classes.jpeg\" width=500  /> "
   ]
  },
  {
   "cell_type": "code",
   "execution_count": 3,
   "metadata": {
    "colab": {
     "base_uri": "https://localhost:8080/",
     "height": 119
    },
    "colab_type": "code",
    "executionInfo": {
     "elapsed": 19544,
     "status": "ok",
     "timestamp": 1557555475486,
     "user": {
      "displayName": "孫歪理",
      "photoUrl": "https://lh5.googleusercontent.com/-KYg5kS-rHRc/AAAAAAAAAAI/AAAAAAAAACA/aIlJz64_ba4/s64/photo.jpg",
      "userId": "15280057578229510796"
     },
     "user_tz": -480
    },
    "id": "IKC4TPyHX5NE",
    "outputId": "ab616c7e-2c9c-48c9-fdb0-37e82528ded5"
   },
   "outputs": [
    {
     "name": "stdout",
     "output_type": "stream",
     "text": [
      "x_train shape: (50000, 32, 32, 3)\n",
      "y_train.shape: (50000, 1)\n",
      "50000 train samples\n",
      "10000 test samples\n"
     ]
    }
   ],
   "source": [
    "# The data, split between train and test sets:\n",
    "(x_train, y_train), (x_test, y_test) = cifar10.load_data()\n",
    "\n",
    "print('x_train shape:', x_train.shape)\n",
    "print('y_train.shape:', y_train.shape)\n",
    "print(x_train.shape[0], 'train samples')\n",
    "print(x_test.shape[0], 'test samples')\n",
    "\n",
    "# x_train.shape:四個維度：第1維度為筆數、第2,3維度為影像大小32*32、第4維度是RGB三原色，所以是3\n",
    "# x_train中有50000筆訓練資料，以及x_test中有10000筆的測試資料"
   ]
  },
  {
   "cell_type": "code",
   "execution_count": 6,
   "metadata": {
    "colab": {
     "base_uri": "https://localhost:8080/",
     "height": 286
    },
    "colab_type": "code",
    "executionInfo": {
     "elapsed": 19797,
     "status": "ok",
     "timestamp": 1557555475752,
     "user": {
      "displayName": "孫歪理",
      "photoUrl": "https://lh5.googleusercontent.com/-KYg5kS-rHRc/AAAAAAAAAAI/AAAAAAAAACA/aIlJz64_ba4/s64/photo.jpg",
      "userId": "15280057578229510796"
     },
     "user_tz": -480
    },
    "id": "SJjaj42F3PCA",
    "outputId": "eed9b017-cf54-4ca6-8ada-ee36ff5cd3ea"
   },
   "outputs": [
    {
     "data": {
      "text/plain": [
       "<matplotlib.image.AxesImage at 0x7f13edf0e0b8>"
      ]
     },
     "execution_count": 6,
     "metadata": {},
     "output_type": "execute_result"
    },
    {
     "data": {
      "image/png": "[encoded data removed]",
      "text/plain": [
       "<Figure size 432x288 with 1 Axes>"
      ]
     },
     "metadata": {
      "needs_background": "light"
     },
     "output_type": "display_data"
    }
   ],
   "source": [
    "# show the first image of training data\n",
    "plt.grid(False)\n",
    "plt.imshow(x_train[0])"
   ]
  },
  {
   "cell_type": "code",
   "execution_count": 7,
   "metadata": {
    "colab": {
     "base_uri": "https://localhost:8080/",
     "height": 34
    },
    "colab_type": "code",
    "executionInfo": {
     "elapsed": 19785,
     "status": "ok",
     "timestamp": 1557555475755,
     "user": {
      "displayName": "孫歪理",
      "photoUrl": "https://lh5.googleusercontent.com/-KYg5kS-rHRc/AAAAAAAAAAI/AAAAAAAAACA/aIlJz64_ba4/s64/photo.jpg",
      "userId": "15280057578229510796"
     },
     "user_tz": -480
    },
    "id": "LRNBHerc-rcC",
    "outputId": "902cc3c4-6347-4f30-f63e-68ea650a943a"
   },
   "outputs": [
    {
     "data": {
      "text/plain": [
       "array([6], dtype=uint8)"
      ]
     },
     "execution_count": 7,
     "metadata": {},
     "output_type": "execute_result"
    }
   ],
   "source": [
    "y_train[0] # 第0筆圖像資料分類的位置"
   ]
  },
  {
   "cell_type": "code",
   "execution_count": 12,
   "metadata": {},
   "outputs": [],
   "source": [
    "#x_train[0]"
   ]
  },
  {
   "cell_type": "code",
   "execution_count": 10,
   "metadata": {
    "colab": {},
    "colab_type": "code",
    "id": "CoW9s8z0X6w3"
   },
   "outputs": [],
   "source": [
    "# image preprocessing\n",
    "x_train = x_train.astype('float32')\n",
    "x_test = x_test.astype('float32')\n",
    "\n",
    "# 將features(照片影像特徵值)標準化，可以提高模型預測的準確度，並且更快收斂\n",
    "# 限縮範圍\n",
    "x_train /= 255  # rescaling \n",
    "x_test /= 255  # rescaling"
   ]
  },
  {
   "cell_type": "code",
   "execution_count": 7,
   "metadata": {},
   "outputs": [],
   "source": [
    "#plt.imshow(x_train[0])"
   ]
  },
  {
   "cell_type": "code",
   "execution_count": 8,
   "metadata": {
    "colab": {
     "base_uri": "https://localhost:8080/",
     "height": 187
    },
    "colab_type": "code",
    "executionInfo": {
     "elapsed": 20279,
     "status": "ok",
     "timestamp": 1557555476268,
     "user": {
      "displayName": "孫歪理",
      "photoUrl": "https://lh5.googleusercontent.com/-KYg5kS-rHRc/AAAAAAAAAAI/AAAAAAAAACA/aIlJz64_ba4/s64/photo.jpg",
      "userId": "15280057578229510796"
     },
     "user_tz": -480
    },
    "id": "zjl7VQmk_woy",
    "outputId": "857e4485-d0bf-48d6-b509-5761778d0904"
   },
   "outputs": [
    {
     "data": {
      "text/plain": [
       "array([[6],\n",
       "       [9],\n",
       "       [9],\n",
       "       [4],\n",
       "       [1],\n",
       "       [1],\n",
       "       [2],\n",
       "       [7],\n",
       "       [8],\n",
       "       [3]], dtype=uint8)"
      ]
     },
     "execution_count": 8,
     "metadata": {},
     "output_type": "execute_result"
    }
   ],
   "source": [
    "y_train[0:10] # 0:10筆的類別"
   ]
  },
  {
   "cell_type": "markdown",
   "metadata": {},
   "source": [
    "## one hot encode"
   ]
  },
  {
   "cell_type": "code",
   "execution_count": 9,
   "metadata": {
    "colab": {
     "base_uri": "https://localhost:8080/",
     "height": 187
    },
    "colab_type": "code",
    "executionInfo": {
     "elapsed": 20252,
     "status": "ok",
     "timestamp": 1557555476269,
     "user": {
      "displayName": "孫歪理",
      "photoUrl": "https://lh5.googleusercontent.com/-KYg5kS-rHRc/AAAAAAAAAAI/AAAAAAAAACA/aIlJz64_ba4/s64/photo.jpg",
      "userId": "15280057578229510796"
     },
     "user_tz": -480
    },
    "id": "tzw4pkZP_8DJ",
    "outputId": "809e4b44-91e3-4104-d05d-0c0077e7365f"
   },
   "outputs": [
    {
     "data": {
      "text/plain": [
       "array([[0., 0., 0., 0., 0., 0., 1., 0., 0., 0.],\n",
       "       [0., 0., 0., 0., 0., 0., 0., 0., 0., 1.],\n",
       "       [0., 0., 0., 0., 0., 0., 0., 0., 0., 1.],\n",
       "       [0., 0., 0., 0., 1., 0., 0., 0., 0., 0.],\n",
       "       [0., 1., 0., 0., 0., 0., 0., 0., 0., 0.],\n",
       "       [0., 1., 0., 0., 0., 0., 0., 0., 0., 0.],\n",
       "       [0., 0., 1., 0., 0., 0., 0., 0., 0., 0.],\n",
       "       [0., 0., 0., 0., 0., 0., 0., 1., 0., 0.],\n",
       "       [0., 0., 0., 0., 0., 0., 0., 0., 1., 0.],\n",
       "       [0., 0., 0., 1., 0., 0., 0., 0., 0., 0.]], dtype=float32)"
      ]
     },
     "execution_count": 9,
     "metadata": {},
     "output_type": "execute_result"
    }
   ],
   "source": [
    "keras.utils.to_categorical(y_train[0:10]) # 對0:10筆的類別做one_hot"
   ]
  },
  {
   "cell_type": "code",
   "execution_count": 10,
   "metadata": {
    "colab": {
     "base_uri": "https://localhost:8080/",
     "height": 51
    },
    "colab_type": "code",
    "executionInfo": {
     "elapsed": 20245,
     "status": "ok",
     "timestamp": 1557555476272,
     "user": {
      "displayName": "孫歪理",
      "photoUrl": "https://lh5.googleusercontent.com/-KYg5kS-rHRc/AAAAAAAAAAI/AAAAAAAAACA/aIlJz64_ba4/s64/photo.jpg",
      "userId": "15280057578229510796"
     },
     "user_tz": -480
    },
    "id": "eSXBilArX8ih",
    "outputId": "856d43bf-918f-4c92-bc53-369341c95d2c"
   },
   "outputs": [
    {
     "name": "stdout",
     "output_type": "stream",
     "text": [
      "y_train shape: (50000, 10)\n",
      "y_test shape: (10000, 10)\n"
     ]
    }
   ],
   "source": [
    "# 將訓練資料與測試資料的label，進行Onehot encoding轉換\n",
    "num_classes = 10\n",
    "y_train = keras.utils.to_categorical(y_train, num_classes)\n",
    "y_test = keras.utils.to_categorical(y_test, num_classes)\n",
    "\n",
    "print('y_train shape:', y_train.shape)\n",
    "print('y_test shape:', y_test.shape)"
   ]
  },
  {
   "cell_type": "code",
   "execution_count": 11,
   "metadata": {
    "colab": {},
    "colab_type": "code",
    "id": "GRovShRpZyg4"
   },
   "outputs": [],
   "source": [
    "## result's dictionary\n",
    "model_result = dict()\n",
    "model_result['acc'] = dict()\n",
    "model_result['loss'] = dict()\n",
    "model_result['val_acc'] = dict()\n",
    "model_result['val_loss'] = dict()"
   ]
  },
  {
   "cell_type": "markdown",
   "metadata": {
    "colab_type": "text",
    "id": "rqCH66zEiJ8m"
   },
   "source": [
    "## 模型定義"
   ]
  },
  {
   "cell_type": "code",
   "execution_count": 12,
   "metadata": {
    "colab": {
     "base_uri": "https://localhost:8080/",
     "height": 785
    },
    "colab_type": "code",
    "executionInfo": {
     "elapsed": 20490,
     "status": "ok",
     "timestamp": 1557555476527,
     "user": {
      "displayName": "孫歪理",
      "photoUrl": "https://lh5.googleusercontent.com/-KYg5kS-rHRc/AAAAAAAAAAI/AAAAAAAAACA/aIlJz64_ba4/s64/photo.jpg",
      "userId": "15280057578229510796"
     },
     "user_tz": -480
    },
    "id": "3cZSnAQjX-M_",
    "outputId": "8df6ab58-6a34-4297-85a3-818080652079"
   },
   "outputs": [],
   "source": [
    "def build_model(cnn=False):\n",
    "\n",
    "    if cnn:\n",
    "        # 選擇Sequential 次序性為這次深度學習模型\n",
    "        model = Sequential()\n",
    "\n",
    "        # 建立卷積層，設定32個3*3的filters\n",
    "        # padding設定為same，讓卷積運算，產生的卷積影像大小不變\n",
    "        # 設定ReLU為激活函數。\n",
    "\n",
    "        model.add(Conv2D(32, (3, 3), padding='same',\n",
    "                       input_shape=x_train.shape[1:]))\n",
    "        model.add(BatchNormalization())# 在每個批次上將前一層的激活值正規化，提升效能\n",
    "        model.add(Activation('relu'))\n",
    "        model.add(Dropout(0.25)) # 避免overfitting\n",
    "\n",
    "        # 第二層 - 卷積層 + 池化層\n",
    "        # maxpooling收斂卷積完的結果\n",
    "        model.add(Conv2D(32, (3, 3)))\n",
    "        model.add(BatchNormalization())\n",
    "        model.add(Activation('relu'))\n",
    "        model.add(MaxPooling2D(pool_size=(2, 2)))\n",
    "\n",
    "        # 第三層 - 卷積層\n",
    "        model.add(Conv2D(64, (3, 3), padding='same'))\n",
    "        model.add(BatchNormalization())\n",
    "        model.add(Activation('relu'))\n",
    "\n",
    "        # 第四層 - 卷積層 + 池化層\n",
    "        model.add(Conv2D(64, (3, 3)))\n",
    "        model.add(BatchNormalization())\n",
    "        model.add(Activation('relu'))\n",
    "        model.add(MaxPooling2D(pool_size=(2, 2)))\n",
    "        model.add(Dropout(0.25)) # 避免overfitting\n",
    "\n",
    "        # 建立分類模型 (MLP) : 平坦層 + 隱藏層 (512 神經元) + 輸出層 (10)\n",
    "        model.add(Flatten())\n",
    "        model.add(Dense(512))\n",
    "        model.add(BatchNormalization())\n",
    "        model.add(Activation('relu'))\n",
    "        model.add(Dropout(0.25)) # 避免overfitting\n",
    "        model.add(Dense(num_classes))\n",
    "        model.add(Activation('softmax'))\n",
    "\n",
    "    else:\n",
    "        model = Sequential()\n",
    "\n",
    "        model.add(Flatten(input_shape=x_train.shape[1:]))\n",
    "\n",
    "        model.add(Dense(512))\n",
    "        model.add(BatchNormalization())\n",
    "        model.add(Activation('relu'))\n",
    "        model.add(Dropout(0.25))\n",
    "\n",
    "        model.add(Dense(256))\n",
    "        model.add(BatchNormalization())\n",
    "        model.add(Activation('relu'))\n",
    "        model.add(Dropout(0.25))\n",
    "\n",
    "        model.add(Dense(128))\n",
    "        model.add(BatchNormalization())\n",
    "        model.add(Activation('relu'))\n",
    "        model.add(Dropout(0.25))\n",
    "\n",
    "        model.add(Dense(num_classes))\n",
    "        model.add(Activation('softmax'))\n",
    "    \n",
    "    return model"
   ]
  },
  {
   "cell_type": "code",
   "execution_count": 13,
   "metadata": {},
   "outputs": [
    {
     "name": "stdout",
     "output_type": "stream",
     "text": [
      "Model: \"sequential\"\n",
      "_________________________________________________________________\n",
      "Layer (type)                 Output Shape              Param #   \n",
      "=================================================================\n",
      "flatten (Flatten)            (None, 3072)              0         \n",
      "_________________________________________________________________\n",
      "dense (Dense)                (None, 512)               1573376   \n",
      "_________________________________________________________________\n",
      "batch_normalization (BatchNo (None, 512)               2048      \n",
      "_________________________________________________________________\n",
      "activation (Activation)      (None, 512)               0         \n",
      "_________________________________________________________________\n",
      "dropout (Dropout)            (None, 512)               0         \n",
      "_________________________________________________________________\n",
      "dense_1 (Dense)              (None, 256)               131328    \n",
      "_________________________________________________________________\n",
      "batch_normalization_1 (Batch (None, 256)               1024      \n",
      "_________________________________________________________________\n",
      "activation_1 (Activation)    (None, 256)               0         \n",
      "_________________________________________________________________\n",
      "dropout_1 (Dropout)          (None, 256)               0         \n",
      "_________________________________________________________________\n",
      "dense_2 (Dense)              (None, 128)               32896     \n",
      "_________________________________________________________________\n",
      "batch_normalization_2 (Batch (None, 128)               512       \n",
      "_________________________________________________________________\n",
      "activation_2 (Activation)    (None, 128)               0         \n",
      "_________________________________________________________________\n",
      "dropout_2 (Dropout)          (None, 128)               0         \n",
      "_________________________________________________________________\n",
      "dense_3 (Dense)              (None, 10)                1290      \n",
      "_________________________________________________________________\n",
      "activation_3 (Activation)    (None, 10)                0         \n",
      "=================================================================\n",
      "Total params: 1,742,474\n",
      "Trainable params: 1,740,682\n",
      "Non-trainable params: 1,792\n",
      "_________________________________________________________________\n"
     ]
    }
   ],
   "source": [
    "dnn_model = build_model(cnn=False)\n",
    "dnn_model.summary()"
   ]
  },
  {
   "cell_type": "code",
   "execution_count": 14,
   "metadata": {},
   "outputs": [
    {
     "name": "stdout",
     "output_type": "stream",
     "text": [
      "Model: \"sequential_1\"\n",
      "_________________________________________________________________\n",
      "Layer (type)                 Output Shape              Param #   \n",
      "=================================================================\n",
      "conv2d (Conv2D)              (None, 32, 32, 32)        896       \n",
      "_________________________________________________________________\n",
      "batch_normalization_3 (Batch (None, 32, 32, 32)        128       \n",
      "_________________________________________________________________\n",
      "activation_4 (Activation)    (None, 32, 32, 32)        0         \n",
      "_________________________________________________________________\n",
      "dropout_3 (Dropout)          (None, 32, 32, 32)        0         \n",
      "_________________________________________________________________\n",
      "conv2d_1 (Conv2D)            (None, 30, 30, 32)        9248      \n",
      "_________________________________________________________________\n",
      "batch_normalization_4 (Batch (None, 30, 30, 32)        128       \n",
      "_________________________________________________________________\n",
      "activation_5 (Activation)    (None, 30, 30, 32)        0         \n",
      "_________________________________________________________________\n",
      "max_pooling2d (MaxPooling2D) (None, 15, 15, 32)        0         \n",
      "_________________________________________________________________\n",
      "conv2d_2 (Conv2D)            (None, 15, 15, 64)        18496     \n",
      "_________________________________________________________________\n",
      "batch_normalization_5 (Batch (None, 15, 15, 64)        256       \n",
      "_________________________________________________________________\n",
      "activation_6 (Activation)    (None, 15, 15, 64)        0         \n",
      "_________________________________________________________________\n",
      "conv2d_3 (Conv2D)            (None, 13, 13, 64)        36928     \n",
      "_________________________________________________________________\n",
      "batch_normalization_6 (Batch (None, 13, 13, 64)        256       \n",
      "_________________________________________________________________\n",
      "activation_7 (Activation)    (None, 13, 13, 64)        0         \n",
      "_________________________________________________________________\n",
      "max_pooling2d_1 (MaxPooling2 (None, 6, 6, 64)          0         \n",
      "_________________________________________________________________\n",
      "dropout_4 (Dropout)          (None, 6, 6, 64)          0         \n",
      "_________________________________________________________________\n",
      "flatten_1 (Flatten)          (None, 2304)              0         \n",
      "_________________________________________________________________\n",
      "dense_4 (Dense)              (None, 512)               1180160   \n",
      "_________________________________________________________________\n",
      "batch_normalization_7 (Batch (None, 512)               2048      \n",
      "_________________________________________________________________\n",
      "activation_8 (Activation)    (None, 512)               0         \n",
      "_________________________________________________________________\n",
      "dropout_5 (Dropout)          (None, 512)               0         \n",
      "_________________________________________________________________\n",
      "dense_5 (Dense)              (None, 10)                5130      \n",
      "_________________________________________________________________\n",
      "activation_9 (Activation)    (None, 10)                0         \n",
      "=================================================================\n",
      "Total params: 1,253,674\n",
      "Trainable params: 1,252,266\n",
      "Non-trainable params: 1,408\n",
      "_________________________________________________________________\n"
     ]
    }
   ],
   "source": [
    "cnn_model = build_model(cnn=True)\n",
    "cnn_model.summary()"
   ]
  },
  {
   "cell_type": "markdown",
   "metadata": {
    "colab_type": "text",
    "id": "CkrKrXctigSI"
   },
   "source": [
    "## 開始訓練模型"
   ]
  },
  {
   "cell_type": "code",
   "execution_count": 15,
   "metadata": {
    "colab": {
     "base_uri": "https://localhost:8080/",
     "height": 462
    },
    "colab_type": "code",
    "executionInfo": {
     "elapsed": 158784,
     "status": "ok",
     "timestamp": 1557555614833,
     "user": {
      "displayName": "孫歪理",
      "photoUrl": "https://lh5.googleusercontent.com/-KYg5kS-rHRc/AAAAAAAAAAI/AAAAAAAAACA/aIlJz64_ba4/s64/photo.jpg",
      "userId": "15280057578229510796"
     },
     "user_tz": -480
    },
    "id": "3-2yHC87YRXh",
    "outputId": "85d3449c-0691-4242-b899-5bf6a42c7ab3"
   },
   "outputs": [
    {
     "name": "stdout",
     "output_type": "stream",
     "text": [
      "Train on 50000 samples, validate on 10000 samples\n",
      "Epoch 1/10\n",
      "50000/50000 [==============================] - 11s 210us/sample - loss: 1.8019 - accuracy: 0.3542 - val_loss: 1.7395 - val_accuracy: 0.3731\n",
      "Epoch 2/10\n",
      "50000/50000 [==============================] - 9s 170us/sample - loss: 1.5926 - accuracy: 0.4325 - val_loss: 1.6350 - val_accuracy: 0.4035\n",
      "Epoch 3/10\n",
      "50000/50000 [==============================] - 9s 170us/sample - loss: 1.5202 - accuracy: 0.4601 - val_loss: 1.5116 - val_accuracy: 0.4656\n",
      "Epoch 4/10\n",
      "50000/50000 [==============================] - 8s 169us/sample - loss: 1.4637 - accuracy: 0.4789 - val_loss: 1.4817 - val_accuracy: 0.4734\n",
      "Epoch 5/10\n",
      "50000/50000 [==============================] - 8s 168us/sample - loss: 1.4177 - accuracy: 0.4957 - val_loss: 1.4118 - val_accuracy: 0.4980\n",
      "Epoch 6/10\n",
      "50000/50000 [==============================] - 8s 167us/sample - loss: 1.3782 - accuracy: 0.5103 - val_loss: 1.5194 - val_accuracy: 0.4542\n",
      "Epoch 7/10\n",
      "50000/50000 [==============================] - 8s 168us/sample - loss: 1.3523 - accuracy: 0.5210 - val_loss: 1.4627 - val_accuracy: 0.4800\n",
      "Epoch 8/10\n",
      "50000/50000 [==============================] - 8s 168us/sample - loss: 1.3159 - accuracy: 0.5339 - val_loss: 1.5817 - val_accuracy: 0.4195\n",
      "Epoch 9/10\n",
      "50000/50000 [==============================] - 8s 167us/sample - loss: 1.2901 - accuracy: 0.5429 - val_loss: 1.3476 - val_accuracy: 0.5199\n",
      "Epoch 10/10\n",
      "50000/50000 [==============================] - 8s 167us/sample - loss: 1.2625 - accuracy: 0.5511 - val_loss: 1.3812 - val_accuracy: 0.5072\n"
     ]
    }
   ],
   "source": [
    "batch_size = 32\n",
    "epochs = 10\n",
    "\n",
    "# 編譯模型\n",
    "# 選用Adam為optimizer \n",
    "optimizer = keras.optimizers.Adam()\n",
    "\n",
    "dnn_model.compile(loss='categorical_crossentropy',\n",
    "              optimizer=optimizer,\n",
    "              metrics=['accuracy'])\n",
    "\n",
    "dnn_model.fit(x_train, y_train,\n",
    "          batch_size=batch_size,\n",
    "          epochs=epochs,\n",
    "          validation_data=(x_test, y_test),\n",
    "          shuffle=True)\n",
    "\n",
    "# 儲存訓練結果\n",
    "\n",
    "experiment = 'DNN'\n",
    "\n",
    "model_result['acc'][experiment] = dnn_model.history.history.get('accuracy')\n",
    "model_result['val_acc'][experiment] = dnn_model.history.history.get('val_accuracy')\n",
    "model_result['loss'][experiment] = dnn_model.history.history.get('loss')\n",
    "model_result['val_loss'][experiment] = dnn_model.history.history.get('val_loss')"
   ]
  },
  {
   "cell_type": "code",
   "execution_count": 16,
   "metadata": {
    "colab": {
     "base_uri": "https://localhost:8080/",
     "height": 462
    },
    "colab_type": "code",
    "executionInfo": {
     "elapsed": 158784,
     "status": "ok",
     "timestamp": 1557555614833,
     "user": {
      "displayName": "孫歪理",
      "photoUrl": "https://lh5.googleusercontent.com/-KYg5kS-rHRc/AAAAAAAAAAI/AAAAAAAAACA/aIlJz64_ba4/s64/photo.jpg",
      "userId": "15280057578229510796"
     },
     "user_tz": -480
    },
    "id": "3-2yHC87YRXh",
    "outputId": "85d3449c-0691-4242-b899-5bf6a42c7ab3"
   },
   "outputs": [
    {
     "name": "stdout",
     "output_type": "stream",
     "text": [
      "Train on 50000 samples, validate on 10000 samples\n",
      "Epoch 1/10\n",
      "50000/50000 [==============================] - 12s 250us/sample - loss: 1.3424 - accuracy: 0.5268 - val_loss: 1.0417 - val_accuracy: 0.6325\n",
      "Epoch 2/10\n",
      "50000/50000 [==============================] - 9s 187us/sample - loss: 0.9200 - accuracy: 0.6775 - val_loss: 0.9077 - val_accuracy: 0.6794\n",
      "Epoch 3/10\n",
      "50000/50000 [==============================] - 9s 188us/sample - loss: 0.7757 - accuracy: 0.7284 - val_loss: 0.6695 - val_accuracy: 0.7664\n",
      "Epoch 4/10\n",
      "50000/50000 [==============================] - 9s 188us/sample - loss: 0.6751 - accuracy: 0.7643 - val_loss: 0.7756 - val_accuracy: 0.7300\n",
      "Epoch 5/10\n",
      "50000/50000 [==============================] - 9s 187us/sample - loss: 0.6135 - accuracy: 0.7856 - val_loss: 0.9609 - val_accuracy: 0.6673\n",
      "Epoch 6/10\n",
      "50000/50000 [==============================] - 9s 189us/sample - loss: 0.5490 - accuracy: 0.8075 - val_loss: 0.6509 - val_accuracy: 0.7788\n",
      "Epoch 7/10\n",
      "50000/50000 [==============================] - 9s 189us/sample - loss: 0.4980 - accuracy: 0.8272 - val_loss: 0.6671 - val_accuracy: 0.7743\n",
      "Epoch 8/10\n",
      "50000/50000 [==============================] - 9s 190us/sample - loss: 0.4550 - accuracy: 0.8412 - val_loss: 0.6003 - val_accuracy: 0.7979\n",
      "Epoch 9/10\n",
      "50000/50000 [==============================] - 9s 189us/sample - loss: 0.4160 - accuracy: 0.8536 - val_loss: 0.6249 - val_accuracy: 0.7992\n",
      "Epoch 10/10\n",
      "50000/50000 [==============================] - 9s 188us/sample - loss: 0.3782 - accuracy: 0.8657 - val_loss: 0.6735 - val_accuracy: 0.7773\n"
     ]
    }
   ],
   "source": [
    "batch_size = 32\n",
    "epochs = 10\n",
    "\n",
    "# 編譯模型\n",
    "# 選用Adam為optimizer \n",
    "optimizer = keras.optimizers.Adam()\n",
    "\n",
    "cnn_model.compile(loss='categorical_crossentropy',\n",
    "              optimizer=optimizer,\n",
    "              metrics=['accuracy'])\n",
    "\n",
    "cnn_model.fit(x_train, y_train,\n",
    "          batch_size=batch_size,\n",
    "          epochs=epochs,\n",
    "          validation_data=(x_test, y_test),\n",
    "          shuffle=True)\n",
    "\n",
    "# 儲存訓練結果\n",
    "\n",
    "experiment = 'CNN'\n",
    "\n",
    "model_result['acc'][experiment] = cnn_model.history.history.get('accuracy')\n",
    "model_result['val_acc'][experiment] = cnn_model.history.history.get('val_accuracy')\n",
    "model_result['loss'][experiment] = cnn_model.history.history.get('loss')\n",
    "model_result['val_loss'][experiment] = cnn_model.history.history.get('val_loss')"
   ]
  },
  {
   "cell_type": "markdown",
   "metadata": {},
   "source": [
    "# show 結果"
   ]
  },
  {
   "cell_type": "code",
   "execution_count": 18,
   "metadata": {},
   "outputs": [
    {
     "name": "stdout",
     "output_type": "stream",
     "text": [
      "prediction:  [3]\n"
     ]
    },
    {
     "data": {
      "image/png": "[encoded data removed]",
      "text/plain": [
       "<Figure size 432x288 with 1 Axes>"
      ]
     },
     "metadata": {
      "needs_background": "light"
     },
     "output_type": "display_data"
    }
   ],
   "source": [
    "test_pred = cnn_model.predict(x_test[0:1]).argmax(-1)\n",
    "\n",
    "plt.imshow(x_test[0])\n",
    "print('prediction: ', test_pred)"
   ]
  },
  {
   "cell_type": "markdown",
   "metadata": {
    "colab_type": "text",
    "id": "P6OaWCuWimfe"
   },
   "source": [
    "## 訓練結果視覺化"
   ]
  },
  {
   "cell_type": "code",
   "execution_count": 19,
   "metadata": {
    "colab": {
     "base_uri": "https://localhost:8080/",
     "height": 1093
    },
    "colab_type": "code",
    "executionInfo": {
     "elapsed": 159716,
     "status": "ok",
     "timestamp": 1557555615785,
     "user": {
      "displayName": "孫歪理",
      "photoUrl": "https://lh5.googleusercontent.com/-KYg5kS-rHRc/AAAAAAAAAAI/AAAAAAAAACA/aIlJz64_ba4/s64/photo.jpg",
      "userId": "15280057578229510796"
     },
     "user_tz": -480
    },
    "id": "p-H_2wjabXas",
    "outputId": "60e7ff76-fce9-4cd8-cb0b-f7494dee2153"
   },
   "outputs": [
    {
     "data": {
      "image/png": "[encoded data removed]",
      "text/plain": [
       "<Figure size 432x288 with 1 Axes>"
      ]
     },
     "metadata": {
      "needs_background": "light"
     },
     "output_type": "display_data"
    },
    {
     "data": {
      "image/png": "[encoded data removed]",
      "text/plain": [
       "<Figure size 432x288 with 1 Axes>"
      ]
     },
     "metadata": {
      "needs_background": "light"
     },
     "output_type": "display_data"
    },
    {
     "data": {
      "image/png": "[encoded data removed]",
      "text/plain": [
       "<Figure size 432x288 with 1 Axes>"
      ]
     },
     "metadata": {
      "needs_background": "light"
     },
     "output_type": "display_data"
    },
    {
     "data": {
      "image/png": "[encoded data removed]",
      "text/plain": [
       "<Figure size 432x288 with 1 Axes>"
      ]
     },
     "metadata": {
      "needs_background": "light"
     },
     "output_type": "display_data"
    }
   ],
   "source": [
    "import matplotlib.pyplot as plt\n",
    "\n",
    "# training loss\n",
    "for i in model_result['loss'].keys():\n",
    "    plt.plot(np.arange(len(model_result['loss'][i])), model_result['loss'][i], label = i)\n",
    "\n",
    "plt.legend(loc='best')\n",
    "plt.title('loss')\n",
    "plt.show()\n",
    "\n",
    "# training acc\n",
    "for i in model_result['acc'].keys():\n",
    "    plt.plot(np.arange(len(model_result['acc'][i])), model_result['acc'][i], label = i)\n",
    "\n",
    "plt.legend(loc='best')\n",
    "plt.title('acc')\n",
    "plt.show()\n",
    "\n",
    "# valid loss\n",
    "for i in model_result['val_loss'].keys():\n",
    "    plt.plot(np.arange(len(model_result['val_loss'][i])), model_result['val_loss'][i], label = i)\n",
    "\n",
    "plt.legend(loc='best')\n",
    "plt.title('val_loss')\n",
    "plt.show()\n",
    "\n",
    "\n",
    "# valid acc\n",
    "for i in model_result['val_acc'].keys():\n",
    "    plt.plot(np.arange(len(model_result['val_acc'][i])), model_result['val_acc'][i], label = i)\n",
    "\n",
    "plt.legend(loc='best')\n",
    "plt.title('val_acc')\n",
    "plt.show()"
   ]
  },
  {
   "cell_type": "markdown",
   "metadata": {},
   "source": [
    "# CNN 適合做圖像的提取特徵\n",
    "# CNN 考慮了圖像的空間關係"
   ]
  },
  {
   "cell_type": "markdown",
   "metadata": {},
   "source": [
    "# CNN 補充資料\n",
    "https://medium.com/jameslearningnote/%E8%B3%87%E6%96%99%E5%88%86%E6%9E%90-%E6%A9%9F%E5%99%A8%E5%AD%B8%E7%BF%92-%E7%AC%AC5-1%E8%AC%9B-%E5%8D%B7%E7%A9%8D%E7%A5%9E%E7%B6%93%E7%B6%B2%E7%B5%A1%E4%BB%8B%E7%B4%B9-convolutional-neural-network-4f8249d65d4f\n",
    "\n",
    "https://medium.com/@syshen/%E5%85%A5%E9%96%80%E6%B7%B1%E5%BA%A6%E5%AD%B8%E7%BF%92-2-d694cad7d1e5"
   ]
  }
 ],
 "metadata": {
  "accelerator": "GPU",
  "colab": {
   "collapsed_sections": [],
   "name": "ex0_CNN_practice.ipynb",
   "provenance": [],
   "version": "0.3.2"
  },
  "kernelspec": {
   "display_name": "Python 3",
   "language": "python",
   "name": "python3"
  },
  "language_info": {
   "codemirror_mode": {
    "name": "ipython",
    "version": 3
   },
   "file_extension": ".py",
   "mimetype": "text/x-python",
   "name": "python",
   "nbconvert_exporter": "python",
   "pygments_lexer": "ipython3",
   "version": "3.7.3"
  }
 },
 "nbformat": 4,
 "nbformat_minor": 4
}
