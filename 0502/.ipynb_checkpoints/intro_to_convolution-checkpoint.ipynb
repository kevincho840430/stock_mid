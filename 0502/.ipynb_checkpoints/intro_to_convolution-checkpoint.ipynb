{
 "cells": [
  {
   "cell_type": "markdown",
   "metadata": {},
   "source": [
    "# Covolutional"
   ]
  },
  {
   "cell_type": "markdown",
   "metadata": {},
   "source": [
    "## Covolution, what is it?\n",
    "卷積(Convolution)是一項常用於computer vivsion領域提取圖片中重要特徵的技術。"
   ]
  },
  {
   "cell_type": "markdown",
   "metadata": {},
   "source": [
    "在圖像處理當中，卷積有三個要素\n",
    "- 輸入圖片\n",
    "- 內核\n",
    "- 一個由原始圖像經過內核處理後輸出的圖像"
   ]
  },
  {
   "cell_type": "markdown",
   "metadata": {},
   "source": [
    "### 1.圖片在電腦中的型態"
   ]
  },
  {
   "cell_type": "markdown",
   "metadata": {},
   "source": [
    "原始大小的圖片<br>\n",
    "<img src='footages/image_1x.jpg'>"
   ]
  },
  {
   "cell_type": "markdown",
   "metadata": {},
   "source": [
    "放大一點的圖片<br>\n",
    "<img src='footages/image_5x.jpg' width='50%'>"
   ]
  },
  {
   "cell_type": "markdown",
   "metadata": {},
   "source": [
    "放到最大的圖片<br>\n",
    "<img src='footages/image_10x.jpg' width='80%'>"
   ]
  },
  {
   "cell_type": "markdown",
   "metadata": {},
   "source": [
    "隨著放大圖片觀察以後，我們發現圖像只是充滿彩色點的網格，事實上:"
   ]
  },
  {
   "cell_type": "markdown",
   "metadata": {},
   "source": [
    "### 圖片只是一個大的網格內放入顏色\n",
    "<img src='https://cdn.dodowallpaper.com/full/138/grid-27.jpg' width='50%'>"
   ]
  },
  {
   "cell_type": "markdown",
   "metadata": {},
   "source": [
    "An example<br>\n",
    "<img src='footages/image_as_array.jpg' width='50%'>"
   ]
  },
  {
   "cell_type": "markdown",
   "metadata": {},
   "source": [
    "- 每個網格內的顏色用數值表示\n",
    "- 每個網格內的數值我們稱為像素(pixel)\n",
    "- 網格在水平、垂直方向的數量稱為resolution(解析度)\n",
    "- 當網格的數量越多，解析度越大，圖片細節也越多(舉相機的例子，老舊的電子相機解析度只有512*512，現在的相機動輒3000*3000，用不同數量的網格來記錄同一個畫面，請問哪一個會能保留住更多真實的細節?)"
   ]
  },
  {
   "cell_type": "markdown",
   "metadata": {},
   "source": [
    "## 2.Kernel and Convolution\n",
    "直觀的理解，可將kernel當作一個\"特徵偵測器\"，不同的kernel用來偵測不同的特徵模式。而convolution就是使用kernel對整張輸入圖片做處理的結果。"
   ]
  },
  {
   "cell_type": "markdown",
   "metadata": {},
   "source": [
    "### Input image\n",
    "<img src='https://ujwlkarn.files.wordpress.com/2016/07/screen-shot-2016-07-24-at-11-25-13-pm.png?w=127&h=115' width='10%'>"
   ]
  },
  {
   "cell_type": "markdown",
   "metadata": {},
   "source": [
    "### A 3*3 kernel\n",
    "<img src='https://ujwlkarn.files.wordpress.com/2016/07/screen-shot-2016-07-24-at-11-25-24-pm.png?w=74&h=64' width='5%'>"
   ]
  },
  {
   "cell_type": "markdown",
   "metadata": {},
   "source": [
    "### Convolution using a 3*3 kernel\n",
    "<img src='https://ujwlkarn.files.wordpress.com/2016/07/convolution_schematic.gif?w=268&h=196' width='25%'>"
   ]
  },
  {
   "cell_type": "markdown",
   "metadata": {},
   "source": [
    "### An example\n",
    "使用兩個不同的kernel對輸入圖片做卷積:<br>\n",
    "<IMG SRC='https://ujwlkarn.files.wordpress.com/2016/08/giphy.gif?w=748' width='40%'>"
   ]
  },
  {
   "cell_type": "markdown",
   "metadata": {},
   "source": [
    "Kernel除了在機器學習領域常用來做特徵萃取以外，也常被用來對圖片產生特別的效果。在圖像處理軟體內常見的\"濾鏡\"，就是使用了kernel對整張圖片做了處理，常見的濾鏡如 模糊、銳化、勾勒輪廓...等等。\n",
    "以下為不同的kernel與其效果:<br>\n",
    "<img src='https://ujwlkarn.files.wordpress.com/2016/08/screen-shot-2016-08-05-at-11-03-00-pm.png?w=342&h=562' width='30%'>"
   ]
  },
  {
   "cell_type": "markdown",
   "metadata": {},
   "source": [
    "## Try it yourself!"
   ]
  },
  {
   "cell_type": "markdown",
   "metadata": {},
   "source": [
    "<img src='https://gurus.pyimagesearch.com/wp-content/uploads/2015/04/kernel_setosa_example.jpg' width='50%'><br>\n",
    "理解kernel與convolution的<a href='http://setosa.io/ev/image-kernels/'>視覺化網站</a>"
   ]
  }
 ],
 "metadata": {
  "kernelspec": {
   "display_name": "Python 3",
   "language": "python",
   "name": "python3"
  },
  "language_info": {
   "codemirror_mode": {
    "name": "ipython",
    "version": 3
   },
   "file_extension": ".py",
   "mimetype": "text/x-python",
   "name": "python",
   "nbconvert_exporter": "python",
   "pygments_lexer": "ipython3",
   "version": "3.6.6"
  }
 },
 "nbformat": 4,
 "nbformat_minor": 2
}
