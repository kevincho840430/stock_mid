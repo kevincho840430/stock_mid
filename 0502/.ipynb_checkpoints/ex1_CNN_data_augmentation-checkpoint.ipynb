{
 "cells": [
  {
   "cell_type": "markdown",
   "metadata": {
    "colab_type": "text",
    "id": "qjQnu80ijCa-"
   },
   "source": [
    "# CNN + Data Augmentation 練習"
   ]
  },
  {
   "cell_type": "code",
   "execution_count": 1,
   "metadata": {
    "colab": {
     "base_uri": "https://localhost:8080/",
     "height": 34
    },
    "colab_type": "code",
    "executionInfo": {
     "elapsed": 789,
     "status": "ok",
     "timestamp": 1557256443045,
     "user": {
      "displayName": "孫歪理",
      "photoUrl": "https://lh5.googleusercontent.com/-KYg5kS-rHRc/AAAAAAAAAAI/AAAAAAAAACA/aIlJz64_ba4/s64/photo.jpg",
      "userId": "15280057578229510796"
     },
     "user_tz": -480
    },
    "id": "qbivP7xbNujz",
    "outputId": "12c0e548-9057-40a1-eddc-0f0c95c74a5c"
   },
   "outputs": [
    {
     "data": {
      "text/plain": [
       "'/device:GPU:0'"
      ]
     },
     "execution_count": 1,
     "metadata": {},
     "output_type": "execute_result"
    }
   ],
   "source": [
    "# Check GPU\n",
    "import tensorflow as tf\n",
    "tf.test.gpu_device_name()"
   ]
  },
  {
   "cell_type": "code",
   "execution_count": 2,
   "metadata": {
    "colab": {},
    "colab_type": "code",
    "id": "vjFmupouR8XP"
   },
   "outputs": [],
   "source": [
    "# import package\n",
    "from tensorflow import keras\n",
    "from tensorflow.keras.datasets import cifar10\n",
    "from tensorflow.keras.preprocessing.image import ImageDataGenerator\n",
    "from tensorflow.keras.models import Sequential\n",
    "from tensorflow.keras.layers import Dense, Dropout, Activation, Flatten, BatchNormalization\n",
    "from tensorflow.keras.layers import Conv2D, MaxPooling2D\n",
    "import numpy as np\n",
    "import os\n",
    "import matplotlib.pyplot as plt\n",
    "%matplotlib inline"
   ]
  },
  {
   "cell_type": "markdown",
   "metadata": {
    "colab_type": "text",
    "id": "kxBu1rarjRU0"
   },
   "source": [
    "## Cifar10 資料讀入及前處理"
   ]
  },
  {
   "cell_type": "code",
   "execution_count": 3,
   "metadata": {
    "colab": {
     "base_uri": "https://localhost:8080/",
     "height": 102
    },
    "colab_type": "code",
    "executionInfo": {
     "elapsed": 216494,
     "status": "ok",
     "timestamp": 1557256665132,
     "user": {
      "displayName": "孫歪理",
      "photoUrl": "https://lh5.googleusercontent.com/-KYg5kS-rHRc/AAAAAAAAAAI/AAAAAAAAACA/aIlJz64_ba4/s64/photo.jpg",
      "userId": "15280057578229510796"
     },
     "user_tz": -480
    },
    "id": "QYgqOHHNSGi2",
    "outputId": "a45350a3-df89-40a5-d515-e8d7e3d27aa0"
   },
   "outputs": [
    {
     "name": "stdout",
     "output_type": "stream",
     "text": [
      "x_train shape: (10000, 32, 32, 3)\n",
      "10000 train samples\n",
      "10000 test samples\n"
     ]
    }
   ],
   "source": [
    "# The data, split between train and test sets:\n",
    "(x_train, y_train), (x_test, y_test) = cifar10.load_data()\n",
    "\n",
    "x_train = x_train[:10000,:,:,:] \n",
    "y_train = y_train[:10000,]\n",
    "\n",
    "print('x_train shape:', x_train.shape)\n",
    "print(x_train.shape[0], 'train samples')\n",
    "print(x_test.shape[0], 'test samples')"
   ]
  },
  {
   "cell_type": "code",
   "execution_count": 4,
   "metadata": {},
   "outputs": [],
   "source": [
    "# image preprocessing\n",
    "x_train = x_train.astype('float32')\n",
    "x_test = x_test.astype('float32')\n",
    "\n",
    "x_train = x_train/255  # rescaling\n",
    "x_test = x_test/255  # rescaling"
   ]
  },
  {
   "cell_type": "code",
   "execution_count": 5,
   "metadata": {
    "colab": {
     "base_uri": "https://localhost:8080/",
     "height": 51
    },
    "colab_type": "code",
    "executionInfo": {
     "elapsed": 1074,
     "status": "ok",
     "timestamp": 1557256687923,
     "user": {
      "displayName": "孫歪理",
      "photoUrl": "https://lh5.googleusercontent.com/-KYg5kS-rHRc/AAAAAAAAAAI/AAAAAAAAACA/aIlJz64_ba4/s64/photo.jpg",
      "userId": "15280057578229510796"
     },
     "user_tz": -480
    },
    "id": "xOFDmNAinRLu",
    "outputId": "a6161a73-ad6a-4756-8c40-ce7a729b8379"
   },
   "outputs": [
    {
     "name": "stdout",
     "output_type": "stream",
     "text": [
      "<class 'numpy.ndarray'>\n",
      "(32, 32, 3)\n"
     ]
    }
   ],
   "source": [
    "print(type(x_train[6]))\n",
    "print(x_train[6].shape)"
   ]
  },
  {
   "cell_type": "code",
   "execution_count": 6,
   "metadata": {
    "colab": {
     "base_uri": "https://localhost:8080/",
     "height": 221
    },
    "colab_type": "code",
    "executionInfo": {
     "elapsed": 1329,
     "status": "ok",
     "timestamp": 1557256690844,
     "user": {
      "displayName": "孫歪理",
      "photoUrl": "https://lh5.googleusercontent.com/-KYg5kS-rHRc/AAAAAAAAAAI/AAAAAAAAACA/aIlJz64_ba4/s64/photo.jpg",
      "userId": "15280057578229510796"
     },
     "user_tz": -480
    },
    "id": "Q40s0Ia6SOAX",
    "outputId": "3291d9d7-43c7-437e-b3f3-7f52fae976f2"
   },
   "outputs": [
    {
     "data": {
      "image/png": "[encoded data removed]",
      "text/plain": [
       "<Figure size 432x288 with 2 Axes>"
      ]
     },
     "metadata": {
      "needs_background": "light"
     },
     "output_type": "display_data"
    },
    {
     "data": {
      "text/plain": [
       "(32, 32, 3)"
      ]
     },
     "execution_count": 6,
     "metadata": {},
     "output_type": "execute_result"
    }
   ],
   "source": [
    "# show image\n",
    "\n",
    "fig = plt.figure()\n",
    "plt.subplot(121)\n",
    "plt.imshow(x_train[0])\n",
    "\n",
    "plt.subplot(122)\n",
    "plt.imshow(x_train[1])\n",
    "\n",
    "plt.show()\n",
    "\n",
    "x_train[1].shape\n"
   ]
  },
  {
   "cell_type": "code",
   "execution_count": 7,
   "metadata": {
    "colab": {
     "base_uri": "https://localhost:8080/",
     "height": 34
    },
    "colab_type": "code",
    "executionInfo": {
     "elapsed": 797,
     "status": "ok",
     "timestamp": 1557256694998,
     "user": {
      "displayName": "孫歪理",
      "photoUrl": "https://lh5.googleusercontent.com/-KYg5kS-rHRc/AAAAAAAAAAI/AAAAAAAAACA/aIlJz64_ba4/s64/photo.jpg",
      "userId": "15280057578229510796"
     },
     "user_tz": -480
    },
    "id": "GCIjH6hlSInp",
    "outputId": "d0fcab39-f9fa-4941-fdf3-552e02ccf87f"
   },
   "outputs": [
    {
     "name": "stdout",
     "output_type": "stream",
     "text": [
      "y_train shape: (10000, 10)\n"
     ]
    }
   ],
   "source": [
    "# Convert class vectors to binary class matrices.\n",
    "num_classes = 10\n",
    "y_train = keras.utils.to_categorical(y_train, num_classes)\n",
    "y_test = keras.utils.to_categorical(y_test, num_classes)\n",
    "print('y_train shape:', y_train.shape)"
   ]
  },
  {
   "cell_type": "code",
   "execution_count": 8,
   "metadata": {
    "colab": {},
    "colab_type": "code",
    "id": "9XztCjwBji51"
   },
   "outputs": [],
   "source": [
    "## result's dictionary\n",
    "model_result = dict()\n",
    "model_result['acc'] = dict()\n",
    "model_result['loss'] = dict()\n",
    "model_result['val_acc'] = dict()\n",
    "model_result['val_loss'] = dict()"
   ]
  },
  {
   "cell_type": "markdown",
   "metadata": {
    "colab_type": "text",
    "id": "hvxldzZ5jjpR"
   },
   "source": [
    "## 模型定義"
   ]
  },
  {
   "cell_type": "code",
   "execution_count": 9,
   "metadata": {
    "colab": {
     "base_uri": "https://localhost:8080/",
     "height": 1057
    },
    "colab_type": "code",
    "executionInfo": {
     "elapsed": 1484,
     "status": "ok",
     "timestamp": 1557256701645,
     "user": {
      "displayName": "孫歪理",
      "photoUrl": "https://lh5.googleusercontent.com/-KYg5kS-rHRc/AAAAAAAAAAI/AAAAAAAAACA/aIlJz64_ba4/s64/photo.jpg",
      "userId": "15280057578229510796"
     },
     "user_tz": -480
    },
    "id": "HSwevVRwSKBK",
    "outputId": "c8972b66-e8df-4e5a-e793-2c627b56d4dd"
   },
   "outputs": [],
   "source": [
    "def build_model():\n",
    "    model = Sequential()\n",
    "    model.add(Conv2D(32, (3, 3), padding='same',\n",
    "                     input_shape=x_train.shape[1:]))\n",
    "    model.add(BatchNormalization())\n",
    "    model.add(Activation('relu'))\n",
    "    model.add(Conv2D(32, (3, 3)))\n",
    "    model.add(BatchNormalization())\n",
    "    model.add(Activation('relu'))\n",
    "    model.add(MaxPooling2D(pool_size=(2, 2)))\n",
    "    model.add(Dropout(0.25))\n",
    "\n",
    "    model.add(Conv2D(64, (3, 3), padding='same'))\n",
    "    model.add(BatchNormalization())\n",
    "    model.add(Activation('relu'))\n",
    "    model.add(Conv2D(64, (3, 3)))\n",
    "    model.add(BatchNormalization())\n",
    "    model.add(Activation('relu'))\n",
    "    model.add(MaxPooling2D(pool_size=(2, 2)))\n",
    "    model.add(Dropout(0.25))\n",
    "\n",
    "    model.add(Flatten())\n",
    "    model.add(Dense(512))\n",
    "    model.add(BatchNormalization())\n",
    "    model.add(Activation('relu'))\n",
    "    model.add(Dropout(0.25))\n",
    "    model.add(Dense(num_classes))\n",
    "    model.add(Activation('softmax'))\n",
    "    \n",
    "    return model"
   ]
  },
  {
   "cell_type": "code",
   "execution_count": 10,
   "metadata": {},
   "outputs": [],
   "source": [
    "model = build_model()\n",
    "\n",
    "# initiate optimizer\n",
    "learning_rate = 0.001\n",
    "optimizer = keras.optimizers.Adam(lr=learning_rate)\n",
    "\n",
    "model.compile(loss='categorical_crossentropy',\n",
    "              optimizer=optimizer,\n",
    "              metrics=['accuracy'])"
   ]
  },
  {
   "cell_type": "code",
   "execution_count": 11,
   "metadata": {
    "colab": {},
    "colab_type": "code",
    "id": "dtPtV8bwSMO7"
   },
   "outputs": [],
   "source": [
    "model_augmentation = build_model()\n",
    "\n",
    "# initiate optimizer\n",
    "learning_rate = 0.001\n",
    "optimizer = keras.optimizers.Adam(lr=learning_rate)\n",
    "\n",
    "model_augmentation.compile(loss='categorical_crossentropy',\n",
    "                           optimizer=optimizer,\n",
    "                           metrics=['accuracy'])"
   ]
  },
  {
   "cell_type": "markdown",
   "metadata": {
    "colab_type": "text",
    "id": "w3ZbQfBhkKQ_"
   },
   "source": [
    "## 開始訓練模型 (without data augmentation)"
   ]
  },
  {
   "cell_type": "code",
   "execution_count": 12,
   "metadata": {
    "cellView": "both",
    "colab": {},
    "colab_type": "code",
    "id": "lJVCV4ApSEmI"
   },
   "outputs": [],
   "source": [
    "data_augmentation = True\n",
    "batch_size = 32\n",
    "epochs = 15"
   ]
  },
  {
   "cell_type": "code",
   "execution_count": 13,
   "metadata": {},
   "outputs": [
    {
     "name": "stdout",
     "output_type": "stream",
     "text": [
      "Not using data augmentation.\n",
      "Train on 10000 samples, validate on 10000 samples\n",
      "Epoch 1/15\n",
      "10000/10000 [==============================] - 6s 563us/sample - loss: 1.7409 - accuracy: 0.3997 - val_loss: 2.9404 - val_accuracy: 0.1824\n",
      "Epoch 2/15\n",
      "10000/10000 [==============================] - 2s 236us/sample - loss: 1.3492 - accuracy: 0.5189 - val_loss: 1.5148 - val_accuracy: 0.4866\n",
      "Epoch 3/15\n",
      "10000/10000 [==============================] - 2s 239us/sample - loss: 1.1499 - accuracy: 0.5849 - val_loss: 1.5173 - val_accuracy: 0.4829\n",
      "Epoch 4/15\n",
      "10000/10000 [==============================] - 2s 236us/sample - loss: 1.0028 - accuracy: 0.6403 - val_loss: 1.3507 - val_accuracy: 0.5372\n",
      "Epoch 5/15\n",
      "10000/10000 [==============================] - 2s 235us/sample - loss: 0.8938 - accuracy: 0.6844 - val_loss: 1.1101 - val_accuracy: 0.6185\n",
      "Epoch 6/15\n",
      "10000/10000 [==============================] - 2s 234us/sample - loss: 0.8123 - accuracy: 0.7137 - val_loss: 0.9549 - val_accuracy: 0.6609\n",
      "Epoch 7/15\n",
      "10000/10000 [==============================] - 2s 237us/sample - loss: 0.7279 - accuracy: 0.7403 - val_loss: 1.1792 - val_accuracy: 0.6021\n",
      "Epoch 8/15\n",
      "10000/10000 [==============================] - 2s 234us/sample - loss: 0.6641 - accuracy: 0.7649 - val_loss: 1.0248 - val_accuracy: 0.6522\n",
      "Epoch 9/15\n",
      "10000/10000 [==============================] - 2s 235us/sample - loss: 0.6110 - accuracy: 0.7840 - val_loss: 0.9192 - val_accuracy: 0.6842\n",
      "Epoch 10/15\n",
      "10000/10000 [==============================] - 2s 238us/sample - loss: 0.5460 - accuracy: 0.8071 - val_loss: 1.0177 - val_accuracy: 0.6718\n",
      "Epoch 11/15\n",
      "10000/10000 [==============================] - 2s 234us/sample - loss: 0.5036 - accuracy: 0.8226 - val_loss: 0.9890 - val_accuracy: 0.6791\n",
      "Epoch 12/15\n",
      "10000/10000 [==============================] - 2s 233us/sample - loss: 0.4549 - accuracy: 0.8417 - val_loss: 0.9877 - val_accuracy: 0.6936\n",
      "Epoch 13/15\n",
      "10000/10000 [==============================] - 2s 236us/sample - loss: 0.4192 - accuracy: 0.8541 - val_loss: 1.1746 - val_accuracy: 0.6493\n",
      "Epoch 14/15\n",
      "10000/10000 [==============================] - 2s 233us/sample - loss: 0.3724 - accuracy: 0.8687 - val_loss: 0.9896 - val_accuracy: 0.6969\n",
      "Epoch 15/15\n",
      "10000/10000 [==============================] - 2s 236us/sample - loss: 0.3439 - accuracy: 0.8753 - val_loss: 0.9605 - val_accuracy: 0.7024\n"
     ]
    }
   ],
   "source": [
    "print('Not using data augmentation.')\n",
    "model.fit(x_train, y_train,\n",
    "          batch_size=batch_size,\n",
    "          epochs=epochs,\n",
    "          validation_data=(x_test, y_test),\n",
    "          shuffle=True)\n",
    "\n",
    "# 紀錄結果\n",
    "experiment = \"without data augmentation\"\n",
    "\n",
    "model_result['acc'][experiment] = model.history.history.get('accuracy')\n",
    "model_result['val_acc'][experiment] = model.history.history.get('val_accuracy')\n",
    "model_result['loss'][experiment] = model.history.history.get('loss')\n",
    "model_result['val_loss'][experiment] = model.history.history.get('val_loss')"
   ]
  },
  {
   "cell_type": "markdown",
   "metadata": {
    "colab_type": "text",
    "id": "Ldw-zoshjx38"
   },
   "source": [
    "## 開始訓練模型 (with data augmentation)"
   ]
  },
  {
   "cell_type": "code",
   "execution_count": 14,
   "metadata": {
    "cellView": "both",
    "colab": {},
    "colab_type": "code",
    "id": "lJVCV4ApSEmI"
   },
   "outputs": [],
   "source": [
    "data_augmentation = True\n",
    "batch_size = 32\n",
    "epochs = 15"
   ]
  },
  {
   "cell_type": "code",
   "execution_count": 15,
   "metadata": {
    "colab": {},
    "colab_type": "code",
    "id": "rQMaX4XISPrO"
   },
   "outputs": [],
   "source": [
    "featurewise_center = False\n",
    "samplewise_center = False\n",
    "featurewise_std_normalization = False\n",
    "samplewise_std_normalization = False\n",
    "rotation_range = 0\n",
    "width_shift_range = 0.1\n",
    "height_shift_range = 0.1\n",
    "horizontal_flip = True\n",
    "vertical_flip = False\n",
    "fill_mode = 'constant'\n",
    "cval = 0\n",
    "\n",
    "# This will do preprocessing and realtime data augmentation:\n",
    "# https://keras.io/preprocessing/image/\n",
    "datagen = ImageDataGenerator(\n",
    "    featurewise_center=featurewise_center,  # 為使數據集去中心化(使均值為0)\n",
    "    samplewise_center=samplewise_center,  # 使輸入數據的每個樣本均值為0\n",
    "    featurewise_std_normalization=featurewise_std_normalization,  # 將輸入除以數據集的標準差以完成標準化\n",
    "    samplewise_std_normalization=samplewise_std_normalization,  # 將輸入的每個樣本除以其自身的標準差\n",
    "    rotation_range=rotation_range, # 隨機旋轉的度數範圍。 (degrees, 0 to 180)\n",
    "    width_shift_range=width_shift_range,  # 隨機水平移動的範圍。 (總高度的比例)\n",
    "    height_shift_range=height_shift_range,  # 隨機垂直移動的範圍。 (總高度的比例)\n",
    "    horizontal_flip=horizontal_flip,  # 隨機水平翻轉。\n",
    "    vertical_flip=vertical_flip,  # 隨機垂直翻轉\n",
    "    fill_mode=fill_mode,  # 補全缺失圖片值\n",
    "    cval=cval)  ## 補浮點數或整數用於邊界之外的點的值 (當fill mode = constant時需要用到)\n",
    "\n",
    "# Compute quantities required for feature-wise normalization\n",
    "# (std, mean, and principal components if ZCA whitening is applied).\n",
    "datagen.fit(x_train)"
   ]
  },
  {
   "cell_type": "code",
   "execution_count": 16,
   "metadata": {},
   "outputs": [
    {
     "name": "stdout",
     "output_type": "stream",
     "text": [
      "After Data augmentation ：\n"
     ]
    },
    {
     "data": {
      "image/png": "[encoded data removed]",
      "text/plain": [
       "<Figure size 432x288 with 2 Axes>"
      ]
     },
     "metadata": {
      "needs_background": "light"
     },
     "output_type": "display_data"
    }
   ],
   "source": [
    "# data Augmentation後的圖片\n",
    "print('After Data augmentation ：')\n",
    "datagenerator = datagen.flow(x_train[0:2],batch_size=2)\n",
    "\n",
    "img_after_augmentation = datagenerator.next()\n",
    "\n",
    "# show the image\n",
    "\n",
    "fig = plt.figure()\n",
    "plt.subplot(121)\n",
    "plt.grid(False)\n",
    "plt.imshow(img_after_augmentation[0])\n",
    "\n",
    "plt.subplot(122)\n",
    "plt.grid(False)\n",
    "plt.imshow(img_after_augmentation[1])\n",
    "\n",
    "plt.show()"
   ]
  },
  {
   "cell_type": "code",
   "execution_count": 17,
   "metadata": {
    "colab": {
     "base_uri": "https://localhost:8080/",
     "height": 819
    },
    "colab_type": "code",
    "executionInfo": {
     "elapsed": 110918,
     "status": "ok",
     "timestamp": 1557256836189,
     "user": {
      "displayName": "孫歪理",
      "photoUrl": "https://lh5.googleusercontent.com/-KYg5kS-rHRc/AAAAAAAAAAI/AAAAAAAAACA/aIlJz64_ba4/s64/photo.jpg",
      "userId": "15280057578229510796"
     },
     "user_tz": -480
    },
    "id": "dQ8rNZ9Cd7Ba",
    "outputId": "2df967b8-c4ff-4461-8884-353f24a3ca0d"
   },
   "outputs": [
    {
     "name": "stdout",
     "output_type": "stream",
     "text": [
      "Using real-time data augmentation.\n",
      "Epoch 1/15\n",
      "313/313 [==============================] - 21s 66ms/step - loss: 1.8463 - accuracy: 0.3529 - val_loss: 2.1378 - val_accuracy: 0.2826\n",
      "Epoch 2/15\n",
      "313/313 [==============================] - 21s 66ms/step - loss: 1.5379 - accuracy: 0.4438 - val_loss: 1.4670 - val_accuracy: 0.4726\n",
      "Epoch 3/15\n",
      "313/313 [==============================] - 21s 66ms/step - loss: 1.4250 - accuracy: 0.4926 - val_loss: 1.6541 - val_accuracy: 0.4609\n",
      "Epoch 4/15\n",
      "313/313 [==============================] - 21s 66ms/step - loss: 1.3111 - accuracy: 0.5297 - val_loss: 1.2688 - val_accuracy: 0.5612\n",
      "Epoch 5/15\n",
      "313/313 [==============================] - 21s 66ms/step - loss: 1.2033 - accuracy: 0.5646 - val_loss: 1.1918 - val_accuracy: 0.5721\n",
      "Epoch 6/15\n",
      "313/313 [==============================] - 21s 66ms/step - loss: 1.1500 - accuracy: 0.5966 - val_loss: 1.2222 - val_accuracy: 0.5636\n",
      "Epoch 7/15\n",
      "313/313 [==============================] - 21s 66ms/step - loss: 1.0951 - accuracy: 0.6127 - val_loss: 1.7946 - val_accuracy: 0.4487\n",
      "Epoch 8/15\n",
      "313/313 [==============================] - 21s 66ms/step - loss: 1.0379 - accuracy: 0.6287 - val_loss: 1.2524 - val_accuracy: 0.5691\n",
      "Epoch 9/15\n",
      "313/313 [==============================] - 21s 66ms/step - loss: 0.9744 - accuracy: 0.6573 - val_loss: 0.9207 - val_accuracy: 0.6765\n",
      "Epoch 10/15\n",
      "313/313 [==============================] - 21s 66ms/step - loss: 0.9419 - accuracy: 0.6649 - val_loss: 1.0053 - val_accuracy: 0.6508\n",
      "Epoch 11/15\n",
      "313/313 [==============================] - 21s 66ms/step - loss: 0.9282 - accuracy: 0.6711 - val_loss: 1.2561 - val_accuracy: 0.6024\n",
      "Epoch 12/15\n",
      "313/313 [==============================] - 21s 66ms/step - loss: 0.8810 - accuracy: 0.6888 - val_loss: 1.0144 - val_accuracy: 0.6565\n",
      "Epoch 13/15\n",
      "313/313 [==============================] - 21s 66ms/step - loss: 0.8735 - accuracy: 0.6911 - val_loss: 0.8679 - val_accuracy: 0.6982\n",
      "Epoch 14/15\n",
      "313/313 [==============================] - 21s 66ms/step - loss: 0.8416 - accuracy: 0.7027 - val_loss: 1.0360 - val_accuracy: 0.6460\n",
      "Epoch 15/15\n",
      "313/313 [==============================] - 21s 66ms/step - loss: 0.8291 - accuracy: 0.7053 - val_loss: 0.8335 - val_accuracy: 0.7169\n"
     ]
    }
   ],
   "source": [
    "print('Using real-time data augmentation.')\n",
    "\n",
    "# Fit the model on the batches generated by datagen.flow().\n",
    "model_augmentation.fit_generator(datagen.flow(x_train, y_train,\n",
    "                                              batch_size=batch_size),\n",
    "                                 steps_per_epoch=x_train.shape[0] // batch_size +1,\n",
    "                                 epochs=epochs,\n",
    "                                 validation_data=(x_test, y_test))\n",
    "\n",
    "# 紀錄結果\n",
    "experiment = \"with data augmentation\"\n",
    "\n",
    "model_result['acc'][experiment] = model_augmentation.history.history.get('accuracy')\n",
    "model_result['val_acc'][experiment] = model_augmentation.history.history.get('val_accuracy')\n",
    "model_result['loss'][experiment] = model_augmentation.history.history.get('loss')\n",
    "model_result['val_loss'][experiment] = model_augmentation.history.history.get('val_loss')"
   ]
  },
  {
   "cell_type": "markdown",
   "metadata": {
    "colab_type": "text",
    "id": "nZBlMAU7kEwK"
   },
   "source": [
    "## 訓練結果視覺化"
   ]
  },
  {
   "cell_type": "code",
   "execution_count": 18,
   "metadata": {
    "colab": {
     "base_uri": "https://localhost:8080/",
     "height": 1093
    },
    "colab_type": "code",
    "executionInfo": {
     "elapsed": 108615,
     "status": "ok",
     "timestamp": 1557256837370,
     "user": {
      "displayName": "孫歪理",
      "photoUrl": "https://lh5.googleusercontent.com/-KYg5kS-rHRc/AAAAAAAAAAI/AAAAAAAAACA/aIlJz64_ba4/s64/photo.jpg",
      "userId": "15280057578229510796"
     },
     "user_tz": -480
    },
    "id": "XtUqvUzVSU82",
    "outputId": "997eea68-36b3-4106-a9b9-01a3f465c4df"
   },
   "outputs": [
    {
     "data": {
      "image/png": "[encoded data removed]",
      "text/plain": [
       "<Figure size 432x288 with 1 Axes>"
      ]
     },
     "metadata": {
      "needs_background": "light"
     },
     "output_type": "display_data"
    },
    {
     "data": {
      "image/png": "[encoded data removed]",
      "text/plain": [
       "<Figure size 432x288 with 1 Axes>"
      ]
     },
     "metadata": {
      "needs_background": "light"
     },
     "output_type": "display_data"
    },
    {
     "data": {
      "image/png": "[encoded data removed]",
      "text/plain": [
       "<Figure size 432x288 with 1 Axes>"
      ]
     },
     "metadata": {
      "needs_background": "light"
     },
     "output_type": "display_data"
    },
    {
     "data": {
      "image/png": "[encoded data removed]",
      "text/plain": [
       "<Figure size 432x288 with 1 Axes>"
      ]
     },
     "metadata": {
      "needs_background": "light"
     },
     "output_type": "display_data"
    }
   ],
   "source": [
    "# training loss\n",
    "for i in model_result['loss'].keys():\n",
    "    plt.plot(np.arange(len(model_result['loss'][i])), model_result['loss'][i], label = i)\n",
    "\n",
    "plt.legend(loc='best')\n",
    "plt.title('loss')\n",
    "plt.show()\n",
    "\n",
    "# training acc\n",
    "for i in model_result['acc'].keys():\n",
    "    plt.plot(np.arange(len(model_result['acc'][i])), model_result['acc'][i], label = i)\n",
    "\n",
    "plt.legend(loc='best')\n",
    "plt.title('acc')\n",
    "plt.show()\n",
    "\n",
    "# valid loss\n",
    "for i in model_result['val_loss'].keys():\n",
    "    plt.plot(np.arange(len(model_result['val_loss'][i])), model_result['val_loss'][i], label = i)\n",
    "\n",
    "plt.legend(loc='best')\n",
    "plt.title('val_loss')\n",
    "plt.show()\n",
    "\n",
    "\n",
    "# valid acc\n",
    "for i in model_result['val_acc'].keys():\n",
    "    plt.plot(np.arange(len(model_result['val_acc'][i])), model_result['val_acc'][i], label = i)\n",
    "\n",
    "plt.legend(loc='best')\n",
    "plt.title('val_acc')\n",
    "plt.show()"
   ]
  }
 ],
 "metadata": {
  "accelerator": "GPU",
  "colab": {
   "collapsed_sections": [],
   "name": "ex1_CNN_data_augmentation.ipynb",
   "provenance": [],
   "version": "0.3.2"
  },
  "kernelspec": {
   "display_name": "Python 3",
   "language": "python",
   "name": "python3"
  },
  "language_info": {
   "codemirror_mode": {
    "name": "ipython",
    "version": 3
   },
   "file_extension": ".py",
   "mimetype": "text/x-python",
   "name": "python",
   "nbconvert_exporter": "python",
   "pygments_lexer": "ipython3",
   "version": "3.7.3"
  }
 },
 "nbformat": 4,
 "nbformat_minor": 4
}
