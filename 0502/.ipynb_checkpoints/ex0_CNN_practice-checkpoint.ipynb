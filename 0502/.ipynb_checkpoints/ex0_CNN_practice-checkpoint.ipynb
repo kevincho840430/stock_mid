{
 "cells": [
  {
   "cell_type": "markdown",
   "metadata": {
    "colab_type": "text",
    "id": "jVehH4MNhbTP"
   },
   "source": [
    "# CNN 練習\n"
   ]
  },
  {
   "cell_type": "markdown",
   "metadata": {
    "colab_type": "text",
    "id": "98Q6g2Bfu6hB"
   },
   "source": [
    "## 匯入所需套件"
   ]
  },
  {
   "cell_type": "code",
   "execution_count": 1,
   "metadata": {
    "colab": {
     "base_uri": "https://localhost:8080/",
     "height": 34
    },
    "colab_type": "code",
    "executionInfo": {
     "elapsed": 3133,
     "status": "ok",
     "timestamp": 1557555459040,
     "user": {
      "displayName": "孫歪理",
      "photoUrl": "https://lh5.googleusercontent.com/-KYg5kS-rHRc/AAAAAAAAAAI/AAAAAAAAACA/aIlJz64_ba4/s64/photo.jpg",
      "userId": "15280057578229510796"
     },
     "user_tz": -480
    },
    "id": "yjak5JgcXGlA",
    "outputId": "daa2d38c-ae8d-409f-cd83-329465f783e1"
   },
   "outputs": [
    {
     "data": {
      "text/plain": [
       "'/device:GPU:0'"
      ]
     },
     "execution_count": 1,
     "metadata": {},
     "output_type": "execute_result"
    }
   ],
   "source": [
    "# 檢查有沒有 GPU\n",
    "import tensorflow as tf\n",
    "tf.test.gpu_device_name()"
   ]
  },
  {
   "cell_type": "code",
   "execution_count": 2,
   "metadata": {
    "colab": {
     "base_uri": "https://localhost:8080/",
     "height": 34
    },
    "colab_type": "code",
    "executionInfo": {
     "elapsed": 3119,
     "status": "ok",
     "timestamp": 1557555459043,
     "user": {
      "displayName": "孫歪理",
      "photoUrl": "https://lh5.googleusercontent.com/-KYg5kS-rHRc/AAAAAAAAAAI/AAAAAAAAACA/aIlJz64_ba4/s64/photo.jpg",
      "userId": "15280057578229510796"
     },
     "user_tz": -480
    },
    "id": "C-K6b_vfX3iJ",
    "outputId": "d0ba920a-0ff2-45ef-9f70-440253442c65"
   },
   "outputs": [],
   "source": [
    "# import package\n",
    "from tensorflow import keras\n",
    "from tensorflow.keras.datasets import cifar10\n",
    "from tensorflow.keras.models import Sequential\n",
    "from tensorflow.keras.layers import Dense, Dropout, Activation, Flatten, BatchNormalization\n",
    "from tensorflow.keras.layers import Conv2D, MaxPooling2D\n",
    "import numpy as np\n",
    "import os\n",
    "\n",
    "import matplotlib.pyplot as plt\n",
    "%matplotlib inline"
   ]
  },
  {
   "cell_type": "markdown",
   "metadata": {
    "colab_type": "text",
    "id": "awautmYIh4a2"
   },
   "source": [
    "## Cifar10 資料讀入及前處理"
   ]
  },
  {
   "cell_type": "code",
   "execution_count": 3,
   "metadata": {
    "colab": {
     "base_uri": "https://localhost:8080/",
     "height": 119
    },
    "colab_type": "code",
    "executionInfo": {
     "elapsed": 19544,
     "status": "ok",
     "timestamp": 1557555475486,
     "user": {
      "displayName": "孫歪理",
      "photoUrl": "https://lh5.googleusercontent.com/-KYg5kS-rHRc/AAAAAAAAAAI/AAAAAAAAACA/aIlJz64_ba4/s64/photo.jpg",
      "userId": "15280057578229510796"
     },
     "user_tz": -480
    },
    "id": "IKC4TPyHX5NE",
    "outputId": "ab616c7e-2c9c-48c9-fdb0-37e82528ded5"
   },
   "outputs": [
    {
     "name": "stdout",
     "output_type": "stream",
     "text": [
      "x_train shape: (50000, 32, 32, 3)\n",
      "y_train.shape: (50000, 1)\n",
      "50000 train samples\n",
      "10000 test samples\n"
     ]
    }
   ],
   "source": [
    "# The data, split between train and test sets:\n",
    "(x_train, y_train), (x_test, y_test) = cifar10.load_data()\n",
    "\n",
    "print('x_train shape:', x_train.shape)\n",
    "print('y_train.shape:', y_train.shape)\n",
    "print(x_train.shape[0], 'train samples')\n",
    "print(x_test.shape[0], 'test samples')\n",
    "\n",
    "# x_train.shape:四個維度：第1維度為筆數、第2,3維度為影像大小32*32、第4維度是RGB三原色，所以是3\n",
    "# x_train中有50000筆訓練資料，以及x_test中有10000筆的測試資料"
   ]
  },
  {
   "cell_type": "code",
   "execution_count": 4,
   "metadata": {
    "colab": {
     "base_uri": "https://localhost:8080/",
     "height": 286
    },
    "colab_type": "code",
    "executionInfo": {
     "elapsed": 19797,
     "status": "ok",
     "timestamp": 1557555475752,
     "user": {
      "displayName": "孫歪理",
      "photoUrl": "https://lh5.googleusercontent.com/-KYg5kS-rHRc/AAAAAAAAAAI/AAAAAAAAACA/aIlJz64_ba4/s64/photo.jpg",
      "userId": "15280057578229510796"
     },
     "user_tz": -480
    },
    "id": "SJjaj42F3PCA",
    "outputId": "eed9b017-cf54-4ca6-8ada-ee36ff5cd3ea"
   },
   "outputs": [
    {
     "data": {
      "text/plain": [
       "<matplotlib.image.AxesImage at 0x7f093c0fb0b8>"
      ]
     },
     "execution_count": 4,
     "metadata": {},
     "output_type": "execute_result"
    },
    {
     "data": {
      "image/png": "[encoded data removed]",
      "text/plain": [
       "<Figure size 432x288 with 1 Axes>"
      ]
     },
     "metadata": {
      "needs_background": "light"
     },
     "output_type": "display_data"
    }
   ],
   "source": [
    "# show the first image of training data\n",
    "plt.grid(False)\n",
    "plt.imshow(x_train[0])"
   ]
  },
  {
   "cell_type": "code",
   "execution_count": 5,
   "metadata": {
    "colab": {
     "base_uri": "https://localhost:8080/",
     "height": 34
    },
    "colab_type": "code",
    "executionInfo": {
     "elapsed": 19785,
     "status": "ok",
     "timestamp": 1557555475755,
     "user": {
      "displayName": "孫歪理",
      "photoUrl": "https://lh5.googleusercontent.com/-KYg5kS-rHRc/AAAAAAAAAAI/AAAAAAAAACA/aIlJz64_ba4/s64/photo.jpg",
      "userId": "15280057578229510796"
     },
     "user_tz": -480
    },
    "id": "LRNBHerc-rcC",
    "outputId": "902cc3c4-6347-4f30-f63e-68ea650a943a"
   },
   "outputs": [
    {
     "data": {
      "text/plain": [
       "array([6], dtype=uint8)"
      ]
     },
     "execution_count": 5,
     "metadata": {},
     "output_type": "execute_result"
    }
   ],
   "source": [
    "y_train[0] # 第0筆圖像資料分類的位置"
   ]
  },
  {
   "cell_type": "code",
   "execution_count": 6,
   "metadata": {
    "colab": {},
    "colab_type": "code",
    "id": "CoW9s8z0X6w3"
   },
   "outputs": [],
   "source": [
    "# image preprocessing\n",
    "x_train = x_train.astype('float32')\n",
    "x_test = x_test.astype('float32')\n",
    "\n",
    "# 將features(照片影像特徵值)標準化，可以提高模型預測的準確度，並且更快收斂\n",
    "x_train /= 255  # rescaling \n",
    "x_test /= 255  # rescaling"
   ]
  },
  {
   "cell_type": "code",
   "execution_count": 7,
   "metadata": {
    "colab": {
     "base_uri": "https://localhost:8080/",
     "height": 187
    },
    "colab_type": "code",
    "executionInfo": {
     "elapsed": 20279,
     "status": "ok",
     "timestamp": 1557555476268,
     "user": {
      "displayName": "孫歪理",
      "photoUrl": "https://lh5.googleusercontent.com/-KYg5kS-rHRc/AAAAAAAAAAI/AAAAAAAAACA/aIlJz64_ba4/s64/photo.jpg",
      "userId": "15280057578229510796"
     },
     "user_tz": -480
    },
    "id": "zjl7VQmk_woy",
    "outputId": "857e4485-d0bf-48d6-b509-5761778d0904"
   },
   "outputs": [
    {
     "data": {
      "text/plain": [
       "array([[6],\n",
       "       [9],\n",
       "       [9],\n",
       "       [4],\n",
       "       [1],\n",
       "       [1],\n",
       "       [2],\n",
       "       [7],\n",
       "       [8],\n",
       "       [3]], dtype=uint8)"
      ]
     },
     "execution_count": 7,
     "metadata": {},
     "output_type": "execute_result"
    }
   ],
   "source": [
    "y_train[0:10] # 0:10筆的類別"
   ]
  },
  {
   "cell_type": "code",
   "execution_count": 8,
   "metadata": {
    "colab": {
     "base_uri": "https://localhost:8080/",
     "height": 187
    },
    "colab_type": "code",
    "executionInfo": {
     "elapsed": 20252,
     "status": "ok",
     "timestamp": 1557555476269,
     "user": {
      "displayName": "孫歪理",
      "photoUrl": "https://lh5.googleusercontent.com/-KYg5kS-rHRc/AAAAAAAAAAI/AAAAAAAAACA/aIlJz64_ba4/s64/photo.jpg",
      "userId": "15280057578229510796"
     },
     "user_tz": -480
    },
    "id": "tzw4pkZP_8DJ",
    "outputId": "809e4b44-91e3-4104-d05d-0c0077e7365f"
   },
   "outputs": [
    {
     "data": {
      "text/plain": [
       "array([[0., 0., 0., 0., 0., 0., 1., 0., 0., 0.],\n",
       "       [0., 0., 0., 0., 0., 0., 0., 0., 0., 1.],\n",
       "       [0., 0., 0., 0., 0., 0., 0., 0., 0., 1.],\n",
       "       [0., 0., 0., 0., 1., 0., 0., 0., 0., 0.],\n",
       "       [0., 1., 0., 0., 0., 0., 0., 0., 0., 0.],\n",
       "       [0., 1., 0., 0., 0., 0., 0., 0., 0., 0.],\n",
       "       [0., 0., 1., 0., 0., 0., 0., 0., 0., 0.],\n",
       "       [0., 0., 0., 0., 0., 0., 0., 1., 0., 0.],\n",
       "       [0., 0., 0., 0., 0., 0., 0., 0., 1., 0.],\n",
       "       [0., 0., 0., 1., 0., 0., 0., 0., 0., 0.]], dtype=float32)"
      ]
     },
     "execution_count": 8,
     "metadata": {},
     "output_type": "execute_result"
    }
   ],
   "source": [
    "keras.utils.to_categorical(y_train[0:10]) # 對0:10筆的類別做one_hot"
   ]
  },
  {
   "cell_type": "code",
   "execution_count": 9,
   "metadata": {
    "colab": {
     "base_uri": "https://localhost:8080/",
     "height": 51
    },
    "colab_type": "code",
    "executionInfo": {
     "elapsed": 20245,
     "status": "ok",
     "timestamp": 1557555476272,
     "user": {
      "displayName": "孫歪理",
      "photoUrl": "https://lh5.googleusercontent.com/-KYg5kS-rHRc/AAAAAAAAAAI/AAAAAAAAACA/aIlJz64_ba4/s64/photo.jpg",
      "userId": "15280057578229510796"
     },
     "user_tz": -480
    },
    "id": "eSXBilArX8ih",
    "outputId": "856d43bf-918f-4c92-bc53-369341c95d2c"
   },
   "outputs": [
    {
     "name": "stdout",
     "output_type": "stream",
     "text": [
      "y_train shape: (50000, 10)\n",
      "y_test shape: (10000, 10)\n"
     ]
    }
   ],
   "source": [
    "# 將訓練資料與測試資料的label，進行Onehot encoding轉換\n",
    "num_classes = 10\n",
    "y_train = keras.utils.to_categorical(y_train, num_classes)\n",
    "y_test = keras.utils.to_categorical(y_test, num_classes)\n",
    "\n",
    "print('y_train shape:', y_train.shape)\n",
    "print('y_test shape:', y_test.shape)"
   ]
  },
  {
   "cell_type": "code",
   "execution_count": 10,
   "metadata": {
    "colab": {},
    "colab_type": "code",
    "id": "GRovShRpZyg4"
   },
   "outputs": [],
   "source": [
    "## result's dictionary\n",
    "model_result = dict()\n",
    "model_result['acc'] = dict()\n",
    "model_result['loss'] = dict()\n",
    "model_result['val_acc'] = dict()\n",
    "model_result['val_loss'] = dict()"
   ]
  },
  {
   "cell_type": "markdown",
   "metadata": {
    "colab_type": "text",
    "id": "rqCH66zEiJ8m"
   },
   "source": [
    "## 模型定義"
   ]
  },
  {
   "cell_type": "code",
   "execution_count": 11,
   "metadata": {
    "colab": {
     "base_uri": "https://localhost:8080/",
     "height": 785
    },
    "colab_type": "code",
    "executionInfo": {
     "elapsed": 20490,
     "status": "ok",
     "timestamp": 1557555476527,
     "user": {
      "displayName": "孫歪理",
      "photoUrl": "https://lh5.googleusercontent.com/-KYg5kS-rHRc/AAAAAAAAAAI/AAAAAAAAACA/aIlJz64_ba4/s64/photo.jpg",
      "userId": "15280057578229510796"
     },
     "user_tz": -480
    },
    "id": "3cZSnAQjX-M_",
    "outputId": "8df6ab58-6a34-4297-85a3-818080652079"
   },
   "outputs": [],
   "source": [
    "def build_model(cnn=False):\n",
    "\n",
    "    if cnn:\n",
    "        # 選擇Sequential 次序性為這次深度學習模型\n",
    "        model = Sequential()\n",
    "\n",
    "        # 建立卷積層，設定32個3*3的filters\n",
    "        # padding設定為same，讓卷積運算，產生的卷積影像大小不變\n",
    "        # 設定ReLU為激活函數。\n",
    "\n",
    "        model.add(Conv2D(32, (3, 3), padding='same',\n",
    "                       input_shape=x_train.shape[1:]))\n",
    "        model.add(BatchNormalization())# 在每個批次上將前一層的激活值正規化，提升效能\n",
    "        model.add(Activation('relu'))\n",
    "        model.add(Dropout(0.25)) # 避免overfitting\n",
    "\n",
    "        # 第二層 - 卷積層 + 池化層\n",
    "        model.add(Conv2D(32, (3, 3)))\n",
    "        model.add(BatchNormalization())\n",
    "        model.add(Activation('relu'))\n",
    "        model.add(MaxPooling2D(pool_size=(2, 2)))\n",
    "\n",
    "        # 第三層 - 卷積層\n",
    "        model.add(Conv2D(64, (3, 3), padding='same'))\n",
    "        model.add(BatchNormalization())\n",
    "        model.add(Activation('relu'))\n",
    "\n",
    "        # 第四層 - 卷積層 + 池化層\n",
    "        model.add(Conv2D(64, (3, 3)))\n",
    "        model.add(BatchNormalization())\n",
    "        model.add(Activation('relu'))\n",
    "        model.add(MaxPooling2D(pool_size=(2, 2)))\n",
    "        model.add(Dropout(0.25)) # 避免overfitting\n",
    "\n",
    "        # 建立分類模型 (MLP) : 平坦層 + 隱藏層 (512 神經元) + 輸出層 (10)\n",
    "        model.add(Flatten())\n",
    "        model.add(Dense(512))\n",
    "        model.add(BatchNormalization())\n",
    "        model.add(Activation('relu'))\n",
    "        model.add(Dropout(0.25)) # 避免overfitting\n",
    "        model.add(Dense(num_classes))\n",
    "        model.add(Activation('softmax'))\n",
    "\n",
    "    else:\n",
    "        model = Sequential()\n",
    "\n",
    "        model.add(Flatten(input_shape=x_train.shape[1:]))\n",
    "\n",
    "        model.add(Dense(512))\n",
    "        model.add(BatchNormalization())\n",
    "        model.add(Activation('relu'))\n",
    "        model.add(Dropout(0.25))\n",
    "\n",
    "        model.add(Dense(256))\n",
    "        model.add(BatchNormalization())\n",
    "        model.add(Activation('relu'))\n",
    "        model.add(Dropout(0.25))\n",
    "\n",
    "        model.add(Dense(128))\n",
    "        model.add(BatchNormalization())\n",
    "        model.add(Activation('relu'))\n",
    "        model.add(Dropout(0.25))\n",
    "\n",
    "        model.add(Dense(num_classes))\n",
    "        model.add(Activation('softmax'))\n",
    "    \n",
    "    return model"
   ]
  },
  {
   "cell_type": "code",
   "execution_count": 12,
   "metadata": {},
   "outputs": [
    {
     "name": "stdout",
     "output_type": "stream",
     "text": [
      "Model: \"sequential\"\n",
      "_________________________________________________________________\n",
      "Layer (type)                 Output Shape              Param #   \n",
      "=================================================================\n",
      "flatten (Flatten)            (None, 3072)              0         \n",
      "_________________________________________________________________\n",
      "dense (Dense)                (None, 512)               1573376   \n",
      "_________________________________________________________________\n",
      "batch_normalization (BatchNo (None, 512)               2048      \n",
      "_________________________________________________________________\n",
      "activation (Activation)      (None, 512)               0         \n",
      "_________________________________________________________________\n",
      "dropout (Dropout)            (None, 512)               0         \n",
      "_________________________________________________________________\n",
      "dense_1 (Dense)              (None, 256)               131328    \n",
      "_________________________________________________________________\n",
      "batch_normalization_1 (Batch (None, 256)               1024      \n",
      "_________________________________________________________________\n",
      "activation_1 (Activation)    (None, 256)               0         \n",
      "_________________________________________________________________\n",
      "dropout_1 (Dropout)          (None, 256)               0         \n",
      "_________________________________________________________________\n",
      "dense_2 (Dense)              (None, 128)               32896     \n",
      "_________________________________________________________________\n",
      "batch_normalization_2 (Batch (None, 128)               512       \n",
      "_________________________________________________________________\n",
      "activation_2 (Activation)    (None, 128)               0         \n",
      "_________________________________________________________________\n",
      "dropout_2 (Dropout)          (None, 128)               0         \n",
      "_________________________________________________________________\n",
      "dense_3 (Dense)              (None, 10)                1290      \n",
      "_________________________________________________________________\n",
      "activation_3 (Activation)    (None, 10)                0         \n",
      "=================================================================\n",
      "Total params: 1,742,474\n",
      "Trainable params: 1,740,682\n",
      "Non-trainable params: 1,792\n",
      "_________________________________________________________________\n"
     ]
    }
   ],
   "source": [
    "dnn_model = build_model(cnn=False)\n",
    "dnn_model.summary()"
   ]
  },
  {
   "cell_type": "code",
   "execution_count": 13,
   "metadata": {},
   "outputs": [
    {
     "name": "stdout",
     "output_type": "stream",
     "text": [
      "Model: \"sequential_1\"\n",
      "_________________________________________________________________\n",
      "Layer (type)                 Output Shape              Param #   \n",
      "=================================================================\n",
      "conv2d (Conv2D)              (None, 32, 32, 32)        896       \n",
      "_________________________________________________________________\n",
      "batch_normalization_3 (Batch (None, 32, 32, 32)        128       \n",
      "_________________________________________________________________\n",
      "activation_4 (Activation)    (None, 32, 32, 32)        0         \n",
      "_________________________________________________________________\n",
      "dropout_3 (Dropout)          (None, 32, 32, 32)        0         \n",
      "_________________________________________________________________\n",
      "conv2d_1 (Conv2D)            (None, 30, 30, 32)        9248      \n",
      "_________________________________________________________________\n",
      "batch_normalization_4 (Batch (None, 30, 30, 32)        128       \n",
      "_________________________________________________________________\n",
      "activation_5 (Activation)    (None, 30, 30, 32)        0         \n",
      "_________________________________________________________________\n",
      "max_pooling2d (MaxPooling2D) (None, 15, 15, 32)        0         \n",
      "_________________________________________________________________\n",
      "conv2d_2 (Conv2D)            (None, 15, 15, 64)        18496     \n",
      "_________________________________________________________________\n",
      "batch_normalization_5 (Batch (None, 15, 15, 64)        256       \n",
      "_________________________________________________________________\n",
      "activation_6 (Activation)    (None, 15, 15, 64)        0         \n",
      "_________________________________________________________________\n",
      "conv2d_3 (Conv2D)            (None, 13, 13, 64)        36928     \n",
      "_________________________________________________________________\n",
      "batch_normalization_6 (Batch (None, 13, 13, 64)        256       \n",
      "_________________________________________________________________\n",
      "activation_7 (Activation)    (None, 13, 13, 64)        0         \n",
      "_________________________________________________________________\n",
      "max_pooling2d_1 (MaxPooling2 (None, 6, 6, 64)          0         \n",
      "_________________________________________________________________\n",
      "dropout_4 (Dropout)          (None, 6, 6, 64)          0         \n",
      "_________________________________________________________________\n",
      "flatten_1 (Flatten)          (None, 2304)              0         \n",
      "_________________________________________________________________\n",
      "dense_4 (Dense)              (None, 512)               1180160   \n",
      "_________________________________________________________________\n",
      "batch_normalization_7 (Batch (None, 512)               2048      \n",
      "_________________________________________________________________\n",
      "activation_8 (Activation)    (None, 512)               0         \n",
      "_________________________________________________________________\n",
      "dropout_5 (Dropout)          (None, 512)               0         \n",
      "_________________________________________________________________\n",
      "dense_5 (Dense)              (None, 10)                5130      \n",
      "_________________________________________________________________\n",
      "activation_9 (Activation)    (None, 10)                0         \n",
      "=================================================================\n",
      "Total params: 1,253,674\n",
      "Trainable params: 1,252,266\n",
      "Non-trainable params: 1,408\n",
      "_________________________________________________________________\n"
     ]
    }
   ],
   "source": [
    "cnn_model = build_model(cnn=True)\n",
    "cnn_model.summary()"
   ]
  },
  {
   "cell_type": "markdown",
   "metadata": {
    "colab_type": "text",
    "id": "CkrKrXctigSI"
   },
   "source": [
    "## 開始訓練模型"
   ]
  },
  {
   "cell_type": "code",
   "execution_count": 15,
   "metadata": {
    "colab": {
     "base_uri": "https://localhost:8080/",
     "height": 462
    },
    "colab_type": "code",
    "executionInfo": {
     "elapsed": 158784,
     "status": "ok",
     "timestamp": 1557555614833,
     "user": {
      "displayName": "孫歪理",
      "photoUrl": "https://lh5.googleusercontent.com/-KYg5kS-rHRc/AAAAAAAAAAI/AAAAAAAAACA/aIlJz64_ba4/s64/photo.jpg",
      "userId": "15280057578229510796"
     },
     "user_tz": -480
    },
    "id": "3-2yHC87YRXh",
    "outputId": "85d3449c-0691-4242-b899-5bf6a42c7ab3"
   },
   "outputs": [
    {
     "name": "stdout",
     "output_type": "stream",
     "text": [
      "Train on 50000 samples, validate on 10000 samples\n",
      "Epoch 1/10\n",
      "50000/50000 [==============================] - 9s 184us/sample - loss: 1.2408 - accuracy: 0.5591 - val_loss: 1.3375 - val_accuracy: 0.5178\n",
      "Epoch 2/10\n",
      "50000/50000 [==============================] - 8s 152us/sample - loss: 1.2171 - accuracy: 0.5691 - val_loss: 1.3148 - val_accuracy: 0.5357\n",
      "Epoch 3/10\n",
      "50000/50000 [==============================] - 8s 152us/sample - loss: 1.1928 - accuracy: 0.5764 - val_loss: 1.3064 - val_accuracy: 0.5383\n",
      "Epoch 4/10\n",
      "50000/50000 [==============================] - 8s 152us/sample - loss: 1.1739 - accuracy: 0.5837 - val_loss: 1.3571 - val_accuracy: 0.5190\n",
      "Epoch 5/10\n",
      "50000/50000 [==============================] - 8s 151us/sample - loss: 1.1554 - accuracy: 0.5907 - val_loss: 1.4536 - val_accuracy: 0.4973\n",
      "Epoch 6/10\n",
      "50000/50000 [==============================] - 8s 153us/sample - loss: 1.1380 - accuracy: 0.5973 - val_loss: 1.2724 - val_accuracy: 0.5433\n",
      "Epoch 7/10\n",
      "50000/50000 [==============================] - 8s 151us/sample - loss: 1.1211 - accuracy: 0.6018 - val_loss: 1.3264 - val_accuracy: 0.5372\n",
      "Epoch 8/10\n",
      "50000/50000 [==============================] - 8s 151us/sample - loss: 1.1080 - accuracy: 0.6071 - val_loss: 1.3723 - val_accuracy: 0.5141\n",
      "Epoch 9/10\n",
      "50000/50000 [==============================] - 8s 151us/sample - loss: 1.0888 - accuracy: 0.6150 - val_loss: 1.3495 - val_accuracy: 0.5197\n",
      "Epoch 10/10\n",
      "50000/50000 [==============================] - 8s 152us/sample - loss: 1.0726 - accuracy: 0.6213 - val_loss: 1.3784 - val_accuracy: 0.5173\n"
     ]
    }
   ],
   "source": [
    "batch_size = 32\n",
    "epochs = 10\n",
    "\n",
    "# 編譯模型\n",
    "# 選用Adam為optimizer \n",
    "optimizer = keras.optimizers.Adam()\n",
    "\n",
    "dnn_model.compile(loss='categorical_crossentropy',\n",
    "              optimizer=optimizer,\n",
    "              metrics=['accuracy'])\n",
    "\n",
    "dnn_model.fit(x_train, y_train,\n",
    "          batch_size=batch_size,\n",
    "          epochs=epochs,\n",
    "          validation_data=(x_test, y_test),\n",
    "          shuffle=True)\n",
    "\n",
    "# 儲存訓練結果\n",
    "\n",
    "experiment = 'DNN'\n",
    "\n",
    "model_result['acc'][experiment] = dnn_model.history.history.get('accuracy')\n",
    "model_result['val_acc'][experiment] = dnn_model.history.history.get('val_accuracy')\n",
    "model_result['loss'][experiment] = dnn_model.history.history.get('loss')\n",
    "model_result['val_loss'][experiment] = dnn_model.history.history.get('val_loss')"
   ]
  },
  {
   "cell_type": "code",
   "execution_count": 16,
   "metadata": {
    "colab": {
     "base_uri": "https://localhost:8080/",
     "height": 462
    },
    "colab_type": "code",
    "executionInfo": {
     "elapsed": 158784,
     "status": "ok",
     "timestamp": 1557555614833,
     "user": {
      "displayName": "孫歪理",
      "photoUrl": "https://lh5.googleusercontent.com/-KYg5kS-rHRc/AAAAAAAAAAI/AAAAAAAAACA/aIlJz64_ba4/s64/photo.jpg",
      "userId": "15280057578229510796"
     },
     "user_tz": -480
    },
    "id": "3-2yHC87YRXh",
    "outputId": "85d3449c-0691-4242-b899-5bf6a42c7ab3"
   },
   "outputs": [
    {
     "name": "stdout",
     "output_type": "stream",
     "text": [
      "Train on 50000 samples, validate on 10000 samples\n",
      "Epoch 1/10\n",
      "50000/50000 [==============================] - 12s 232us/sample - loss: 1.3495 - accuracy: 0.5234 - val_loss: 1.1431 - val_accuracy: 0.6034\n",
      "Epoch 2/10\n",
      "50000/50000 [==============================] - 9s 173us/sample - loss: 0.9098 - accuracy: 0.6784 - val_loss: 0.9056 - val_accuracy: 0.6772\n",
      "Epoch 3/10\n",
      "50000/50000 [==============================] - 9s 172us/sample - loss: 0.7685 - accuracy: 0.7298 - val_loss: 0.7901 - val_accuracy: 0.7184\n",
      "Epoch 4/10\n",
      "50000/50000 [==============================] - 9s 174us/sample - loss: 0.6683 - accuracy: 0.7654 - val_loss: 0.8163 - val_accuracy: 0.7180\n",
      "Epoch 5/10\n",
      "50000/50000 [==============================] - 9s 173us/sample - loss: 0.5953 - accuracy: 0.7919 - val_loss: 0.6755 - val_accuracy: 0.7688\n",
      "Epoch 6/10\n",
      "50000/50000 [==============================] - 9s 173us/sample - loss: 0.5455 - accuracy: 0.8080 - val_loss: 0.6071 - val_accuracy: 0.7885\n",
      "Epoch 7/10\n",
      "50000/50000 [==============================] - 9s 174us/sample - loss: 0.4852 - accuracy: 0.8287 - val_loss: 0.7149 - val_accuracy: 0.7637\n",
      "Epoch 8/10\n",
      "50000/50000 [==============================] - 9s 176us/sample - loss: 0.4477 - accuracy: 0.8425 - val_loss: 0.6210 - val_accuracy: 0.7946\n",
      "Epoch 9/10\n",
      "50000/50000 [==============================] - 9s 174us/sample - loss: 0.4111 - accuracy: 0.8565 - val_loss: 0.5692 - val_accuracy: 0.8074\n",
      "Epoch 10/10\n",
      "50000/50000 [==============================] - 9s 173us/sample - loss: 0.3781 - accuracy: 0.8667 - val_loss: 0.5663 - val_accuracy: 0.8130\n"
     ]
    }
   ],
   "source": [
    "batch_size = 32\n",
    "epochs = 10\n",
    "\n",
    "# 編譯模型\n",
    "# 選用Adam為optimizer \n",
    "optimizer = keras.optimizers.Adam()\n",
    "\n",
    "cnn_model.compile(loss='categorical_crossentropy',\n",
    "              optimizer=optimizer,\n",
    "              metrics=['accuracy'])\n",
    "\n",
    "cnn_model.fit(x_train, y_train,\n",
    "          batch_size=batch_size,\n",
    "          epochs=epochs,\n",
    "          validation_data=(x_test, y_test),\n",
    "          shuffle=True)\n",
    "\n",
    "# 儲存訓練結果\n",
    "\n",
    "experiment = 'CNN'\n",
    "\n",
    "model_result['acc'][experiment] = cnn_model.history.history.get('accuracy')\n",
    "model_result['val_acc'][experiment] = cnn_model.history.history.get('val_accuracy')\n",
    "model_result['loss'][experiment] = cnn_model.history.history.get('loss')\n",
    "model_result['val_loss'][experiment] = cnn_model.history.history.get('val_loss')"
   ]
  },
  {
   "cell_type": "markdown",
   "metadata": {
    "colab_type": "text",
    "id": "P6OaWCuWimfe"
   },
   "source": [
    "## 訓練結果視覺化"
   ]
  },
  {
   "cell_type": "code",
   "execution_count": 17,
   "metadata": {
    "colab": {
     "base_uri": "https://localhost:8080/",
     "height": 1093
    },
    "colab_type": "code",
    "executionInfo": {
     "elapsed": 159716,
     "status": "ok",
     "timestamp": 1557555615785,
     "user": {
      "displayName": "孫歪理",
      "photoUrl": "https://lh5.googleusercontent.com/-KYg5kS-rHRc/AAAAAAAAAAI/AAAAAAAAACA/aIlJz64_ba4/s64/photo.jpg",
      "userId": "15280057578229510796"
     },
     "user_tz": -480
    },
    "id": "p-H_2wjabXas",
    "outputId": "60e7ff76-fce9-4cd8-cb0b-f7494dee2153"
   },
   "outputs": [
    {
     "data": {
      "image/png": "[encoded data removed]",
      "text/plain": [
       "<Figure size 432x288 with 1 Axes>"
      ]
     },
     "metadata": {
      "needs_background": "light"
     },
     "output_type": "display_data"
    },
    {
     "data": {
      "image/png": "[encoded data removed]",
      "text/plain": [
       "<Figure size 432x288 with 1 Axes>"
      ]
     },
     "metadata": {
      "needs_background": "light"
     },
     "output_type": "display_data"
    },
    {
     "data": {
      "image/png": "[encoded data removed]",
      "text/plain": [
       "<Figure size 432x288 with 1 Axes>"
      ]
     },
     "metadata": {
      "needs_background": "light"
     },
     "output_type": "display_data"
    },
    {
     "data": {
      "image/png": "[encoded data removed]",
      "text/plain": [
       "<Figure size 432x288 with 1 Axes>"
      ]
     },
     "metadata": {
      "needs_background": "light"
     },
     "output_type": "display_data"
    }
   ],
   "source": [
    "import matplotlib.pyplot as plt\n",
    "\n",
    "# training loss\n",
    "for i in model_result['loss'].keys():\n",
    "    plt.plot(np.arange(len(model_result['loss'][i])), model_result['loss'][i], label = i)\n",
    "\n",
    "plt.legend(loc='best')\n",
    "plt.title('loss')\n",
    "plt.show()\n",
    "\n",
    "# training acc\n",
    "for i in model_result['acc'].keys():\n",
    "    plt.plot(np.arange(len(model_result['acc'][i])), model_result['acc'][i], label = i)\n",
    "\n",
    "plt.legend(loc='best')\n",
    "plt.title('acc')\n",
    "plt.show()\n",
    "\n",
    "# valid loss\n",
    "for i in model_result['val_loss'].keys():\n",
    "    plt.plot(np.arange(len(model_result['val_loss'][i])), model_result['val_loss'][i], label = i)\n",
    "\n",
    "plt.legend(loc='best')\n",
    "plt.title('val_loss')\n",
    "plt.show()\n",
    "\n",
    "\n",
    "# valid acc\n",
    "for i in model_result['val_acc'].keys():\n",
    "    plt.plot(np.arange(len(model_result['val_acc'][i])), model_result['val_acc'][i], label = i)\n",
    "\n",
    "plt.legend(loc='best')\n",
    "plt.title('val_acc')\n",
    "plt.show()"
   ]
  },
  {
   "cell_type": "code",
   "execution_count": null,
   "metadata": {},
   "outputs": [],
   "source": []
  }
 ],
 "metadata": {
  "accelerator": "GPU",
  "colab": {
   "collapsed_sections": [],
   "name": "ex0_CNN_practice.ipynb",
   "provenance": [],
   "version": "0.3.2"
  },
  "kernelspec": {
   "display_name": "Python 3",
   "language": "python",
   "name": "python3"
  },
  "language_info": {
   "codemirror_mode": {
    "name": "ipython",
    "version": 3
   },
   "file_extension": ".py",
   "mimetype": "text/x-python",
   "name": "python",
   "nbconvert_exporter": "python",
   "pygments_lexer": "ipython3",
   "version": "3.7.3"
  }
 },
 "nbformat": 4,
 "nbformat_minor": 4
}
